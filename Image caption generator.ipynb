{
 "cells": [
  {
   "cell_type": "markdown",
   "metadata": {},
   "source": [
    "# Image caption generator"
   ]
  },
  {
   "cell_type": "markdown",
   "metadata": {},
   "source": [
    "## Part 1 - seq2seq auto encoder"
   ]
  },
  {
   "cell_type": "code",
   "execution_count": 1,
   "metadata": {},
   "outputs": [],
   "source": [
    "from fastai.text import *\n",
    "import pandas as pd\n",
    "from pathlib import Path"
   ]
  },
  {
   "cell_type": "code",
   "execution_count": 2,
   "metadata": {},
   "outputs": [],
   "source": [
    "gpu = torch.device('cuda:0')"
   ]
  },
  {
   "cell_type": "code",
   "execution_count": 3,
   "metadata": {},
   "outputs": [],
   "source": [
    "PATH = Path('data/')\n",
    "PATH.mkdir(exist_ok=True)"
   ]
  },
  {
   "cell_type": "code",
   "execution_count": 4,
   "metadata": {},
   "outputs": [],
   "source": [
    "seq_PATH = PATH/'seq2deq_model'\n",
    "seq_PATH.mkdir(exist_ok=True)"
   ]
  },
  {
   "cell_type": "code",
   "execution_count": 5,
   "metadata": {},
   "outputs": [],
   "source": [
    "captions_and_links_valid = pd.read_csv(\"Validation_GCC-1.1.0-Validation.tsv\", sep=\"\\t\",header=None)\n",
    "captions_and_links_train = pd.read_csv(\"Train_GCC-training.tsv\", sep=\"\\t\",header=None)"
   ]
  },
  {
   "cell_type": "code",
   "execution_count": 6,
   "metadata": {},
   "outputs": [
    {
     "data": {
      "text/plain": [
       "(15840, 3318333)"
      ]
     },
     "execution_count": 6,
     "metadata": {},
     "output_type": "execute_result"
    }
   ],
   "source": [
    "len(captions_and_links_valid), len(captions_and_links_train)"
   ]
  },
  {
   "cell_type": "code",
   "execution_count": 6,
   "metadata": {},
   "outputs": [
    {
     "data": {
      "text/html": [
       "<div>\n",
       "<style scoped>\n",
       "    .dataframe tbody tr th:only-of-type {\n",
       "        vertical-align: middle;\n",
       "    }\n",
       "\n",
       "    .dataframe tbody tr th {\n",
       "        vertical-align: top;\n",
       "    }\n",
       "\n",
       "    .dataframe thead th {\n",
       "        text-align: right;\n",
       "    }\n",
       "</style>\n",
       "<table border=\"1\" class=\"dataframe\">\n",
       "  <thead>\n",
       "    <tr style=\"text-align: right;\">\n",
       "      <th></th>\n",
       "      <th>0</th>\n",
       "      <th>1</th>\n",
       "    </tr>\n",
       "  </thead>\n",
       "  <tbody>\n",
       "    <tr>\n",
       "      <th>0</th>\n",
       "      <td>author : a life in photography -- in pictures</td>\n",
       "      <td>https://i.pinimg.com/736x/66/01/6c/66016c3ba27...</td>\n",
       "    </tr>\n",
       "    <tr>\n",
       "      <th>1</th>\n",
       "      <td>an angler fishes river on a snowy day .</td>\n",
       "      <td>http://www.standard.net/image/2015/02/04/800x_...</td>\n",
       "    </tr>\n",
       "    <tr>\n",
       "      <th>2</th>\n",
       "      <td>photograph of the sign being repaired by brave...</td>\n",
       "      <td>http://indianapolis-photos.funcityfinder.com/f...</td>\n",
       "    </tr>\n",
       "    <tr>\n",
       "      <th>3</th>\n",
       "      <td>the player staring intently at a computer scre...</td>\n",
       "      <td>http://www.abc.net.au/news/image/9066492-3x2-7...</td>\n",
       "    </tr>\n",
       "    <tr>\n",
       "      <th>4</th>\n",
       "      <td>globes : the green 3d person carrying in hands...</td>\n",
       "      <td>https://www.featurepics.com/StockImage/2009031...</td>\n",
       "    </tr>\n",
       "  </tbody>\n",
       "</table>\n",
       "</div>"
      ],
      "text/plain": [
       "                                                   0  \\\n",
       "0      author : a life in photography -- in pictures   \n",
       "1            an angler fishes river on a snowy day .   \n",
       "2  photograph of the sign being repaired by brave...   \n",
       "3  the player staring intently at a computer scre...   \n",
       "4  globes : the green 3d person carrying in hands...   \n",
       "\n",
       "                                                   1  \n",
       "0  https://i.pinimg.com/736x/66/01/6c/66016c3ba27...  \n",
       "1  http://www.standard.net/image/2015/02/04/800x_...  \n",
       "2  http://indianapolis-photos.funcityfinder.com/f...  \n",
       "3  http://www.abc.net.au/news/image/9066492-3x2-7...  \n",
       "4  https://www.featurepics.com/StockImage/2009031...  "
      ]
     },
     "execution_count": 6,
     "metadata": {},
     "output_type": "execute_result"
    }
   ],
   "source": [
    "captions_and_links_valid.head()"
   ]
  },
  {
   "cell_type": "code",
   "execution_count": 7,
   "metadata": {},
   "outputs": [],
   "source": [
    "captions_valid = captions_and_links_valid[0].values\n",
    "captions_train = captions_and_links_train[0].values"
   ]
  },
  {
   "cell_type": "code",
   "execution_count": 8,
   "metadata": {},
   "outputs": [
    {
     "data": {
      "text/plain": [
       "(3318333, 15840)"
      ]
     },
     "execution_count": 8,
     "metadata": {},
     "output_type": "execute_result"
    }
   ],
   "source": [
    "len(captions_train), len(captions_valid)"
   ]
  },
  {
   "cell_type": "markdown",
   "metadata": {},
   "source": [
    "### Tokenization"
   ]
  },
  {
   "cell_type": "code",
   "execution_count": 9,
   "metadata": {},
   "outputs": [],
   "source": [
    "tokenizer = Tokenizer()"
   ]
  },
  {
   "cell_type": "code",
   "execution_count": 10,
   "metadata": {},
   "outputs": [],
   "source": [
    "tokens_captions_valid = tokenizer.process_all(captions_valid)"
   ]
  },
  {
   "cell_type": "code",
   "execution_count": 11,
   "metadata": {},
   "outputs": [],
   "source": [
    "tokens_captions_train = tokenizer.process_all(captions_train)"
   ]
  },
  {
   "cell_type": "markdown",
   "metadata": {},
   "source": [
    "**Let's make sure everything went right:**"
   ]
  },
  {
   "cell_type": "code",
   "execution_count": 12,
   "metadata": {},
   "outputs": [
    {
     "name": "stdout",
     "output_type": "stream",
     "text": [
      "people click into their skis . people click into their skis .\n"
     ]
    }
   ],
   "source": [
    "print(captions_train[777], ' '.join(tokens_captions_train[777]))"
   ]
  },
  {
   "cell_type": "markdown",
   "metadata": {},
   "source": [
    "### Length of captions\n",
    "#### Average length of captions"
   ]
  },
  {
   "cell_type": "code",
   "execution_count": 13,
   "metadata": {},
   "outputs": [
    {
     "data": {
      "text/plain": [
       "10.415467171717172"
      ]
     },
     "execution_count": 13,
     "metadata": {},
     "output_type": "execute_result"
    }
   ],
   "source": [
    "np.mean([len(c) for c in tokens_captions_valid])"
   ]
  },
  {
   "cell_type": "code",
   "execution_count": 14,
   "metadata": {},
   "outputs": [
    {
     "data": {
      "text/plain": [
       "10.322056888202601"
      ]
     },
     "execution_count": 14,
     "metadata": {},
     "output_type": "execute_result"
    }
   ],
   "source": [
    "np.mean([len(c) for c in tokens_captions_train])"
   ]
  },
  {
   "cell_type": "markdown",
   "metadata": {},
   "source": [
    "#### Discard captions that are too long"
   ]
  },
  {
   "cell_type": "code",
   "execution_count": 15,
   "metadata": {},
   "outputs": [],
   "source": [
    "tokens_captions_valid = np.array(tokens_captions_valid)[np.array([len(c) < 30 for c in tokens_captions_valid])]"
   ]
  },
  {
   "cell_type": "code",
   "execution_count": 16,
   "metadata": {},
   "outputs": [
    {
     "data": {
      "text/plain": [
       "29"
      ]
     },
     "execution_count": 16,
     "metadata": {},
     "output_type": "execute_result"
    }
   ],
   "source": [
    "np.max([len(c) for c in tokens_captions_valid])"
   ]
  },
  {
   "cell_type": "code",
   "execution_count": 17,
   "metadata": {},
   "outputs": [],
   "source": [
    "tokens_captions_train = np.array(tokens_captions_train)[np.array([len(c) < 30 for c in tokens_captions_train])]"
   ]
  },
  {
   "cell_type": "code",
   "execution_count": 18,
   "metadata": {},
   "outputs": [
    {
     "data": {
      "text/plain": [
       "29"
      ]
     },
     "execution_count": 18,
     "metadata": {},
     "output_type": "execute_result"
    }
   ],
   "source": [
    "np.max([len(c) for c in tokens_captions_train])"
   ]
  },
  {
   "cell_type": "code",
   "execution_count": 19,
   "metadata": {},
   "outputs": [],
   "source": [
    "pickle.dump((tokens_captions_valid), (seq_PATH/'tok_cap_v.pkl').open('wb'))"
   ]
  },
  {
   "cell_type": "code",
   "execution_count": 20,
   "metadata": {},
   "outputs": [],
   "source": [
    "pickle.dump((tokens_captions_train), (seq_PATH/'tok_cap_t.pkl').open('wb'))"
   ]
  },
  {
   "cell_type": "code",
   "execution_count": 5,
   "metadata": {},
   "outputs": [],
   "source": [
    "tokens_captions_valid = pickle.load((seq_PATH/'tok_cap_v.pkl').open('rb'))"
   ]
  },
  {
   "cell_type": "code",
   "execution_count": 6,
   "metadata": {},
   "outputs": [],
   "source": [
    "tokens_captions_train = pickle.load((seq_PATH/'tok_cap_t.pkl').open('rb'))"
   ]
  },
  {
   "cell_type": "code",
   "execution_count": 7,
   "metadata": {},
   "outputs": [
    {
     "name": "stdout",
     "output_type": "stream",
     "text": [
      "3302516 15764\n"
     ]
    }
   ],
   "source": [
    "print(len(tokens_captions_train), len(tokens_captions_valid))"
   ]
  },
  {
   "cell_type": "markdown",
   "metadata": {},
   "source": [
    "### Numericalization"
   ]
  },
  {
   "cell_type": "code",
   "execution_count": 8,
   "metadata": {},
   "outputs": [],
   "source": [
    "vocab = Vocab.create(tokens_captions_train, max_vocab=50000, min_freq=2)"
   ]
  },
  {
   "cell_type": "markdown",
   "metadata": {},
   "source": [
    "**Let's quickly test this:**"
   ]
  },
  {
   "cell_type": "code",
   "execution_count": 9,
   "metadata": {},
   "outputs": [],
   "source": [
    "idx = 12575"
   ]
  },
  {
   "cell_type": "code",
   "execution_count": 10,
   "metadata": {},
   "outputs": [
    {
     "name": "stdout",
     "output_type": "stream",
     "text": [
      "actor attending the world premiere of crime fiction film\n"
     ]
    }
   ],
   "source": [
    "test_caption = tokens_captions_valid[idx]\n",
    "print(' '.join(w for w in test_caption))"
   ]
  },
  {
   "cell_type": "code",
   "execution_count": 11,
   "metadata": {},
   "outputs": [
    {
     "name": "stdout",
     "output_type": "stream",
     "text": [
      "[31, 1841, 8, 108, 43, 11, 2274, 1018, 76]\n"
     ]
    }
   ],
   "source": [
    "test_caption_num = vocab.numericalize(test_caption)\n",
    "print(test_caption_num)"
   ]
  },
  {
   "cell_type": "code",
   "execution_count": 12,
   "metadata": {},
   "outputs": [
    {
     "name": "stdout",
     "output_type": "stream",
     "text": [
      "actor attending the world premiere of crime fiction film\n"
     ]
    }
   ],
   "source": [
    "print(vocab.textify(test_caption_num))"
   ]
  },
  {
   "cell_type": "code",
   "execution_count": 13,
   "metadata": {},
   "outputs": [
    {
     "data": {
      "text/plain": [
       "['author', ':', 'a', 'life', 'in', 'photography', '--', 'in', 'pictures']"
      ]
     },
     "execution_count": 13,
     "metadata": {},
     "output_type": "execute_result"
    }
   ],
   "source": [
    "tokens_captions_valid[0]"
   ]
  },
  {
   "cell_type": "code",
   "execution_count": 9,
   "metadata": {},
   "outputs": [],
   "source": [
    "def numericalize_tokens(tok):\n",
    "    return np.array([vocab.numericalize(q) + [1] for q in tok])"
   ]
  },
  {
   "cell_type": "code",
   "execution_count": 10,
   "metadata": {},
   "outputs": [],
   "source": [
    "captions_numericalized_valid = numericalize_tokens(tokens_captions_valid)"
   ]
  },
  {
   "cell_type": "code",
   "execution_count": 11,
   "metadata": {},
   "outputs": [],
   "source": [
    "captions_numericalized_train = numericalize_tokens(tokens_captions_train)"
   ]
  },
  {
   "cell_type": "markdown",
   "metadata": {},
   "source": [
    "Test it:"
   ]
  },
  {
   "cell_type": "code",
   "execution_count": 12,
   "metadata": {},
   "outputs": [
    {
     "data": {
      "text/plain": [
       "'a vector illustration of a motorcycle contrasted against a bicycle . xxpad'"
      ]
     },
     "execution_count": 12,
     "metadata": {},
     "output_type": "execute_result"
    }
   ],
   "source": [
    "vocab.textify(captions_numericalized_train[1256339])"
   ]
  },
  {
   "cell_type": "markdown",
   "metadata": {},
   "source": [
    "### Word vectors"
   ]
  },
  {
   "cell_type": "code",
   "execution_count": 34,
   "metadata": {},
   "outputs": [],
   "source": [
    "#! pip install git+https://github.com/facebookresearch/fastText.git"
   ]
  },
  {
   "cell_type": "code",
   "execution_count": 35,
   "metadata": {},
   "outputs": [],
   "source": [
    "import fastText as ft"
   ]
  },
  {
   "cell_type": "code",
   "execution_count": 36,
   "metadata": {},
   "outputs": [],
   "source": [
    "en_vecs = ft.load_model(str(seq_PATH/'wiki.en.bin'))"
   ]
  },
  {
   "cell_type": "code",
   "execution_count": 37,
   "metadata": {},
   "outputs": [],
   "source": [
    "vec_dict = {w : en_vecs.get_word_vector(w) for w in en_vecs.get_words()}"
   ]
  },
  {
   "cell_type": "code",
   "execution_count": 38,
   "metadata": {},
   "outputs": [],
   "source": [
    "pickle.dump(vec_dict, open(seq_PATH/'vec_dict.pkl', 'wb'))"
   ]
  },
  {
   "cell_type": "code",
   "execution_count": 12,
   "metadata": {},
   "outputs": [],
   "source": [
    "vec_dict = pickle.load(open(seq_PATH/'vec_dict.pkl','rb'))"
   ]
  },
  {
   "cell_type": "markdown",
   "metadata": {},
   "source": [
    "**Let's take a look at the most frequent words from fastText:**"
   ]
  },
  {
   "cell_type": "code",
   "execution_count": 40,
   "metadata": {},
   "outputs": [],
   "source": [
    "ft_words = en_vecs.get_words(include_freq=True)"
   ]
  },
  {
   "cell_type": "code",
   "execution_count": 41,
   "metadata": {},
   "outputs": [],
   "source": [
    "ft_word_dict = {k:v for k,v in zip(*ft_words)}"
   ]
  },
  {
   "cell_type": "code",
   "execution_count": 42,
   "metadata": {},
   "outputs": [],
   "source": [
    "ft_words = sorted(ft_word_dict.keys(), key=lambda x: ft_word_dict[x])"
   ]
  },
  {
   "cell_type": "markdown",
   "metadata": {},
   "source": [
    "10 most frequent words:"
   ]
  },
  {
   "cell_type": "code",
   "execution_count": 43,
   "metadata": {},
   "outputs": [
    {
     "data": {
      "text/plain": [
       "[')', \"'\", 'and', 'in', '-', 'of', '</s>', 'the', '.', ',']"
      ]
     },
     "execution_count": 43,
     "metadata": {},
     "output_type": "execute_result"
    }
   ],
   "source": [
    "ft_words[-10:]"
   ]
  },
  {
   "cell_type": "markdown",
   "metadata": {},
   "source": [
    "**Mean and stdv of the word vectors:**"
   ]
  },
  {
   "cell_type": "code",
   "execution_count": 44,
   "metadata": {},
   "outputs": [],
   "source": [
    "vecs = np.stack(list(vec_dict.values()))"
   ]
  },
  {
   "cell_type": "code",
   "execution_count": 45,
   "metadata": {},
   "outputs": [
    {
     "data": {
      "text/plain": [
       "(0.0075652334, 0.29283327)"
      ]
     },
     "execution_count": 45,
     "metadata": {},
     "output_type": "execute_result"
    }
   ],
   "source": [
    "vecs.mean(), vecs.std()"
   ]
  },
  {
   "cell_type": "markdown",
   "metadata": {},
   "source": [
    "### Dataset"
   ]
  },
  {
   "cell_type": "code",
   "execution_count": 13,
   "metadata": {},
   "outputs": [],
   "source": [
    "def A(*a):\n",
    "    \"\"\"convert iterable object into numpy array\"\"\"\n",
    "    return np.array(a[0]) if len(a)==1 else [np.array(o) for o in a]"
   ]
  },
  {
   "cell_type": "code",
   "execution_count": 14,
   "metadata": {},
   "outputs": [],
   "source": [
    "class Caption2CaptionDataset(Dataset):\n",
    "    def __init__(self, x):\n",
    "        self.x = x\n",
    "    def __getitem__(self, idx):\n",
    "        return A(self.x[idx], self.x[idx])\n",
    "    def __len__(self):\n",
    "        return len(self.x)"
   ]
  },
  {
   "cell_type": "code",
   "execution_count": 15,
   "metadata": {},
   "outputs": [],
   "source": [
    "trn_ds = Caption2CaptionDataset(captions_numericalized_train)"
   ]
  },
  {
   "cell_type": "code",
   "execution_count": 16,
   "metadata": {},
   "outputs": [],
   "source": [
    "val_ds = Caption2CaptionDataset(captions_numericalized_valid)"
   ]
  },
  {
   "cell_type": "code",
   "execution_count": 17,
   "metadata": {},
   "outputs": [
    {
     "data": {
      "text/plain": [
       "(3302516, 15764)"
      ]
     },
     "execution_count": 17,
     "metadata": {},
     "output_type": "execute_result"
    }
   ],
   "source": [
    "len(trn_ds), len(val_ds)"
   ]
  },
  {
   "cell_type": "code",
   "execution_count": 18,
   "metadata": {},
   "outputs": [
    {
     "data": {
      "text/plain": [
       "'a very typical bus station xxpad'"
      ]
     },
     "execution_count": 18,
     "metadata": {},
     "output_type": "execute_result"
    }
   ],
   "source": [
    "vocab.textify(trn_ds[0][0])"
   ]
  },
  {
   "cell_type": "markdown",
   "metadata": {},
   "source": [
    "### Dataloader"
   ]
  },
  {
   "cell_type": "code",
   "execution_count": 17,
   "metadata": {},
   "outputs": [],
   "source": [
    "bs = 125"
   ]
  },
  {
   "cell_type": "code",
   "execution_count": 18,
   "metadata": {},
   "outputs": [],
   "source": [
    "val_sampler = SortSampler(captions_numericalized_valid, key=lambda x:len(captions_numericalized_valid[x]))"
   ]
  },
  {
   "cell_type": "code",
   "execution_count": 19,
   "metadata": {},
   "outputs": [],
   "source": [
    "trn_sampler = SortishSampler(captions_numericalized_train, key=lambda x: len(captions_numericalized_train[x]), bs=bs)"
   ]
  },
  {
   "cell_type": "markdown",
   "metadata": {},
   "source": [
    "Since we want to fully utilize the GPUs capabilities, we train in batches. The length of a minibatch tensor is set by the sequence length of the longest question in that batch. The other questions are padded. To save time and memory, we want to avoid very long and very short questions in one batch because that would mean lot's of padding. For the validation set we simply sort the questions. For training we use the `SortishSampler` which groups *longer* questions together and *shorter* questions together while preserving some randomness.\n",
    "\n",
    "For language models it's better to pad before the start of the sequence because we need the final hidden state to predict the next token or for classification...\n",
    "\n",
    "For sequence to sequence models it is better to pad after the end of the sequence.\n",
    "\n",
    "The samplers return an index:"
   ]
  },
  {
   "cell_type": "code",
   "execution_count": 20,
   "metadata": {},
   "outputs": [],
   "source": [
    "i = next(iter(trn_sampler))"
   ]
  },
  {
   "cell_type": "code",
   "execution_count": 21,
   "metadata": {},
   "outputs": [
    {
     "data": {
      "text/plain": [
       "'person , meanwhile , turned up the glam in a plunging white maxi dress that boasted a sheer skirt that featured daringly cut slits that reached her upper thighs xxpad'"
      ]
     },
     "execution_count": 21,
     "metadata": {},
     "output_type": "execute_result"
    }
   ],
   "source": [
    "vocab.textify(captions_numericalized_train[i])"
   ]
  },
  {
   "cell_type": "code",
   "execution_count": 22,
   "metadata": {},
   "outputs": [],
   "source": [
    "import pdb"
   ]
  },
  {
   "cell_type": "code",
   "execution_count": 20,
   "metadata": {},
   "outputs": [],
   "source": [
    "def pad_collate_seq2seq(samples:BatchSamples, pad_idx:int=1, pad_first:bool=True, backwards:bool=False, transpose:bool=False) -> Tuple[LongTensor, LongTensor]:\n",
    "    \"Function that collect samples and adds padding. Flips token order if needed\"\n",
    "    samples = to_data(samples)\n",
    "    max_len_inp = max([len(s[0]) for s in samples])\n",
    "    max_len_out = max([len(s[1]) for s in samples])\n",
    "    \n",
    "    res_inp = torch.zeros(len(samples), max_len_inp).long() + pad_idx\n",
    "    res_out = torch.zeros(len(samples), max_len_out).long() + pad_idx\n",
    "    \n",
    "    if backwards: pad_first = not pad_first\n",
    "    for i,s in enumerate(samples):\n",
    "        if pad_first: \n",
    "            res_inp[i,-len(s[0]):] = LongTensor(s[0])\n",
    "            res_out[i,-len(s[1]):] = LongTensor(s[1])\n",
    "        else:         \n",
    "            res_inp[i,:len(s[0]):] = LongTensor(s[0])\n",
    "            res_out[i,:len(s[1]):] = LongTensor(s[1])\n",
    "    if backwards:\n",
    "        res = res.flip(1)\n",
    "    if transpose:\n",
    "        res_inp.transpose_(0,1)\n",
    "        res_out.transpose_(0,1)\n",
    "    return res_inp, res_out"
   ]
  },
  {
   "cell_type": "code",
   "execution_count": 21,
   "metadata": {},
   "outputs": [],
   "source": [
    "my_pad_collate_func = partial(pad_collate_seq2seq, pad_first=False, transpose=True)"
   ]
  },
  {
   "cell_type": "code",
   "execution_count": 22,
   "metadata": {},
   "outputs": [],
   "source": [
    "trn_dl = DataLoader(dataset=trn_ds, batch_size=bs, sampler=trn_sampler, collate_fn=my_pad_collate_func)"
   ]
  },
  {
   "cell_type": "code",
   "execution_count": 23,
   "metadata": {},
   "outputs": [],
   "source": [
    "val_dl = DataLoader(dataset=val_ds, batch_size=bs, sampler=val_sampler, collate_fn=my_pad_collate_func)"
   ]
  },
  {
   "cell_type": "markdown",
   "metadata": {},
   "source": [
    "Let's test the dataloader:"
   ]
  },
  {
   "cell_type": "code",
   "execution_count": 27,
   "metadata": {},
   "outputs": [],
   "source": [
    "it = iter(val_dl)"
   ]
  },
  {
   "cell_type": "code",
   "execution_count": 28,
   "metadata": {},
   "outputs": [],
   "source": [
    "its = [next(it) for _ in range(3)]"
   ]
  },
  {
   "cell_type": "code",
   "execution_count": 29,
   "metadata": {},
   "outputs": [
    {
     "data": {
      "text/plain": [
       "[(torch.Size([30, 125]), torch.Size([30, 125])),\n",
       " (torch.Size([27, 125]), torch.Size([27, 125])),\n",
       " (torch.Size([24, 125]), torch.Size([24, 125]))]"
      ]
     },
     "execution_count": 29,
     "metadata": {},
     "output_type": "execute_result"
    }
   ],
   "source": [
    "[(x.shape, y.shape) for x, y in its]"
   ]
  },
  {
   "cell_type": "code",
   "execution_count": 38,
   "metadata": {},
   "outputs": [
    {
     "name": "stdout",
     "output_type": "stream",
     "text": [
      "this is an old photo of my figure i had and i slightly edited it and now he looks like he 's from a dramatic anime xxpad xxpad xxpad xxpad\n",
      "this is an old photo of my figure i had and i slightly edited it and now he looks like he 's from a dramatic anime xxpad xxpad xxpad xxpad\n",
      "\n",
      "i have no idea how that american flag got in this picture of the construction , but i love that it is there ! xxpad xxpad xxpad\n",
      "i have no idea how that american flag got in this picture of the construction , but i love that it is there ! xxpad xxpad xxpad\n",
      "\n",
      "detail shot : the hands of a woman driving a car by the countryside , seen from the front passenger 's seat xxpad xxpad\n",
      "detail shot : the hands of a woman driving a car by the countryside , seen from the front passenger 's seat xxpad xxpad\n",
      "\n"
     ]
    }
   ],
   "source": [
    "for x, y in its:\n",
    "    print(vocab.textify(x[:,100]))\n",
    "    print(vocab.textify(y[:,100]))\n",
    "    print()"
   ]
  },
  {
   "cell_type": "markdown",
   "metadata": {},
   "source": [
    "### Model"
   ]
  },
  {
   "cell_type": "code",
   "execution_count": 24,
   "metadata": {},
   "outputs": [],
   "source": [
    "n_hid, n_layers = 400, 3"
   ]
  },
  {
   "cell_type": "code",
   "execution_count": 25,
   "metadata": {},
   "outputs": [],
   "source": [
    "def create_emb(wordvecs, itos, emb_sz):\n",
    "    emb= nn.Embedding(len(itos), emb_sz, padding_idx=1)\n",
    "    weights = emb.weight.data\n",
    "    not_found = []\n",
    "    \n",
    "    for idx, word in enumerate(itos):\n",
    "        try:\n",
    "            weights[idx] = torch.from_numpy(wordvecs[word] * 3)\n",
    "        except:\n",
    "            not_found.append(word)\n",
    "    print(len(not_found), not_found[5:10])\n",
    "    return emb"
   ]
  },
  {
   "cell_type": "code",
   "execution_count": 26,
   "metadata": {},
   "outputs": [],
   "source": [
    "class seq2seqAutoEncoder(nn.Module):\n",
    "    def __init__(self, device, wordvecs, itos, emb_sz, n_hid, out_seqlen, n_layers=2):\n",
    "        super().__init__()\n",
    "        self.n_hid, self.n_layers, self.out_seqlen = n_hid, n_layers, out_seqlen\n",
    "        self.device = device\n",
    "        \n",
    "        # Encoder\n",
    "        self.emb = create_emb(wordvecs, itos, emb_sz)\n",
    "        self.emb = self.emb.to(self.device)\n",
    "        self.emb_drop = nn.Dropout(0.15)\n",
    "        self.rnn_enc = nn.GRU(emb_sz, n_hid, num_layers=n_layers, dropout=0.25)\n",
    "        self.output_enc = nn.Linear(n_hid, emb_sz, bias=False)\n",
    "        \n",
    "        # Decoder\n",
    "        self.rnn_dec = nn.GRU(emb_sz, emb_sz, num_layers=n_layers, dropout=0.1)  # square to enable weight tying\n",
    "        self.out_drop = nn.Dropout(0.35)\n",
    "        self.out = nn.Linear(emb_sz, len(itos))\n",
    "        self.out.weight.data = self.emb.weight.data\n",
    "        \n",
    "    def forward(self, inp):\n",
    "        # pdb.set_trace()\n",
    "        _, h = self.encode(inp)\n",
    "        \n",
    "        dec_inp = torch.zeros(inp.size(1), requires_grad=False).long()\n",
    "        dec_inp = dec_inp.to(self.device)\n",
    "        res = []\n",
    "        \n",
    "        for i in range(self.out_seqlen):\n",
    "            dec_output, h = self.decode(dec_inp, h)\n",
    "            res.append(dec_output)\n",
    "            dec_inp = dec_output.data.max(1)[1]  # [1] to get argmax\n",
    "            if (dec_inp == 1).all():\n",
    "                break\n",
    "        \n",
    "        return torch.stack(res)\n",
    "    \n",
    "    def encode(self, inp):\n",
    "        h = self.initHidden(inp.size(1))  # bs\n",
    "        h = h.to(self.device)\n",
    "        emb = self.emb_drop(self.emb(inp))\n",
    "        enc_output, h = self.rnn_enc(emb, h) # h[1] is same as enc_outp[-1]!\n",
    "        \n",
    "        h = self.output_enc(h)\n",
    "        \n",
    "        return enc_output, h\n",
    "    \n",
    "    def decode(self, dec_inp, h):\n",
    "        emb_inp = self.emb(dec_inp).unsqueeze(0)  # adds unit axis at beginning so that rnn 'loops' once\n",
    "        output, h = self.rnn_dec(emb_inp, h)\n",
    "        output = self.out(self.out_drop(output[0]))\n",
    "\n",
    "        return F.log_softmax(output, dim=1), h\n",
    "    \n",
    "    def initHidden(self, bs):\n",
    "        return torch.zeros(self.n_layers, bs, self.n_hid, requires_grad=False)"
   ]
  },
  {
   "cell_type": "code",
   "execution_count": 27,
   "metadata": {},
   "outputs": [],
   "source": [
    "def Seq2SeqLoss(pred, target):\n",
    "    seqlen, bs = target.size()\n",
    "    seqlen_pred, bs_pred, n_probs = pred.size()\n",
    "    \n",
    "    # we need to pad if target seqlen is larger than prediction seqlen\n",
    "    if seqlen > seqlen_pred:\n",
    "        pred = F.pad(pred, (0,0,0,0,0,seqlen-seqlen_pred))\n",
    "    \n",
    "    # but we only compare until the seqlen of the target\n",
    "    pred = pred[:seqlen]\n",
    "    \n",
    "    # cross_entropy can't handle rank 3 tensors currently, we need to flatten\n",
    "    return F.nll_loss(pred.contiguous().view(-1, n_probs), target.contiguous().view(-1))"
   ]
  },
  {
   "cell_type": "code",
   "execution_count": 28,
   "metadata": {},
   "outputs": [
    {
     "data": {
      "text/plain": [
       "300"
      ]
     },
     "execution_count": 28,
     "metadata": {},
     "output_type": "execute_result"
    }
   ],
   "source": [
    "emb_sz = vec_dict[\"cat\"].size\n",
    "emb_sz"
   ]
  },
  {
   "cell_type": "code",
   "execution_count": 29,
   "metadata": {},
   "outputs": [
    {
     "name": "stdout",
     "output_type": "stream",
     "text": [
      "3689 ['xxup', 'xxrep', 'xxwrep', ':', \"'s\"]\n"
     ]
    }
   ],
   "source": [
    "rnn = seq2seqAutoEncoder(gpu, vec_dict, vocab.itos, emb_sz, n_hid, 30, n_layers)\n",
    "rnn = rnn.to(gpu)"
   ]
  },
  {
   "cell_type": "code",
   "execution_count": 30,
   "metadata": {},
   "outputs": [],
   "source": [
    "opt_fn = partial(optim.Adam, betas=(0.8, 0.99))  # like bind in c++"
   ]
  },
  {
   "cell_type": "code",
   "execution_count": 31,
   "metadata": {},
   "outputs": [],
   "source": [
    "dataBunch = DataBunch(train_dl=trn_dl, valid_dl=val_dl, device=gpu, path=seq_PATH, collate_fn=my_pad_collate_func)"
   ]
  },
  {
   "cell_type": "code",
   "execution_count": 32,
   "metadata": {},
   "outputs": [],
   "source": [
    "learn = Learner(data=dataBunch, model=to_device(rnn, gpu), opt_func=opt_fn, loss_func=Seq2SeqLoss, callback_fns=ShowGraph)"
   ]
  },
  {
   "cell_type": "code",
   "execution_count": 52,
   "metadata": {},
   "outputs": [
    {
     "data": {
      "text/html": [],
      "text/plain": [
       "<IPython.core.display.HTML object>"
      ]
     },
     "metadata": {},
     "output_type": "display_data"
    },
    {
     "name": "stdout",
     "output_type": "stream",
     "text": [
      "LR Finder is complete, type {learner_name}.recorder.plot() to see the graph.\n"
     ]
    }
   ],
   "source": [
    "learn.lr_find()"
   ]
  },
  {
   "cell_type": "code",
   "execution_count": 53,
   "metadata": {},
   "outputs": [
    {
     "data": {
      "image/png": "[encoded data removed]",
      "text/plain": [
       "<Figure size 432x288 with 1 Axes>"
      ]
     },
     "metadata": {
      "needs_background": "light"
     },
     "output_type": "display_data"
    }
   ],
   "source": [
    "learn.recorder.plot(skip_end=18)"
   ]
  },
  {
   "cell_type": "code",
   "execution_count": 38,
   "metadata": {},
   "outputs": [],
   "source": [
    "lr = 1e-3"
   ]
  },
  {
   "cell_type": "code",
   "execution_count": null,
   "metadata": {},
   "outputs": [],
   "source": [
    "learn.fit_one_cycle(1, lr)"
   ]
  },
  {
   "cell_type": "code",
   "execution_count": 421,
   "metadata": {},
   "outputs": [
    {
     "data": {
      "image/png": "[encoded data removed]",
      "text/plain": [
       "<Figure size 864x288 with 2 Axes>"
      ]
     },
     "metadata": {
      "needs_background": "light"
     },
     "output_type": "display_data"
    }
   ],
   "source": [
    "learn.recorder.plot_lr(show_moms=True)"
   ]
  },
  {
   "cell_type": "code",
   "execution_count": 422,
   "metadata": {},
   "outputs": [],
   "source": [
    "#learn.save(\"GRU_try1\")"
   ]
  },
  {
   "cell_type": "code",
   "execution_count": 33,
   "metadata": {},
   "outputs": [
    {
     "name": "stderr",
     "output_type": "stream",
     "text": [
      "/home/fabiograetz/anaconda3/envs/imgcap/lib/python3.6/site-packages/torch/serialization.py:251: UserWarning: Couldn't retrieve source code for container of type seq2seqAutoEncoder. It won't be checked for correctness upon loading.\n",
      "  \"type \" + obj.__name__ + \". It won't be checked \"\n"
     ]
    },
    {
     "data": {
      "text/plain": [
       "Learner(data=DataBunch;\n",
       "\n",
       "Train: <__main__.Caption2CaptionDataset object at 0x7f2ffbc662b0>;\n",
       "\n",
       "Valid: <__main__.Caption2CaptionDataset object at 0x7f2ffbc66630>;\n",
       "\n",
       "Test: None, model=seq2seqAutoEncoder(\n",
       "  (emb): Embedding(33465, 300, padding_idx=1)\n",
       "  (emb_drop): Dropout(p=0.15)\n",
       "  (rnn_enc): GRU(300, 400, num_layers=3, dropout=0.25)\n",
       "  (output_enc): Linear(in_features=400, out_features=300, bias=False)\n",
       "  (rnn_dec): GRU(300, 300, num_layers=3, dropout=0.1)\n",
       "  (out_drop): Dropout(p=0.35)\n",
       "  (out): Linear(in_features=300, out_features=33465, bias=True)\n",
       "), opt_func=functools.partial(<class 'torch.optim.adam.Adam'>, betas=(0.8, 0.99)), loss_func=<function Seq2SeqLoss at 0x7f2fe113bf28>, metrics=[], true_wd=True, bn_wd=True, wd=0.01, train_bn=True, path=PosixPath('data/seq2deq_model'), model_dir='models', callback_fns=[functools.partial(<class 'fastai.basic_train.Recorder'>, add_time=True), <class 'fastai.train.ShowGraph'>], callbacks=[], layer_groups=[Sequential(\n",
       "  (0): Embedding(33465, 300, padding_idx=1)\n",
       "  (1): Dropout(p=0.15)\n",
       "  (2): GRU(300, 400, num_layers=3, dropout=0.25)\n",
       "  (3): Linear(in_features=400, out_features=300, bias=False)\n",
       "  (4): GRU(300, 300, num_layers=3, dropout=0.1)\n",
       "  (5): Dropout(p=0.35)\n",
       "  (6): Linear(in_features=300, out_features=33465, bias=True)\n",
       ")], add_time=True)"
      ]
     },
     "execution_count": 33,
     "metadata": {},
     "output_type": "execute_result"
    }
   ],
   "source": [
    "learn.load(\"GRU_try1\")"
   ]
  },
  {
   "cell_type": "markdown",
   "metadata": {},
   "source": [
    "### Let's try the model"
   ]
  },
  {
   "cell_type": "code",
   "execution_count": 45,
   "metadata": {},
   "outputs": [
    {
     "data": {
      "text/plain": [
       "seq2seqAutoEncoder(\n",
       "  (emb): Embedding(33465, 300, padding_idx=1)\n",
       "  (emb_drop): Dropout(p=0.15)\n",
       "  (rnn_enc): GRU(300, 400, num_layers=3, dropout=0.25)\n",
       "  (output_enc): Linear(in_features=400, out_features=300, bias=False)\n",
       "  (rnn_dec): GRU(300, 300, num_layers=3, dropout=0.1)\n",
       "  (out_drop): Dropout(p=0.35)\n",
       "  (out): Linear(in_features=300, out_features=33465, bias=True)\n",
       ")"
      ]
     },
     "execution_count": 45,
     "metadata": {},
     "output_type": "execute_result"
    }
   ],
   "source": [
    "learn.model.train()"
   ]
  },
  {
   "cell_type": "code",
   "execution_count": 34,
   "metadata": {},
   "outputs": [
    {
     "data": {
      "text/plain": [
       "seq2seqAutoEncoder(\n",
       "  (emb): Embedding(33465, 300, padding_idx=1)\n",
       "  (emb_drop): Dropout(p=0.15)\n",
       "  (rnn_enc): GRU(300, 400, num_layers=3, dropout=0.25)\n",
       "  (output_enc): Linear(in_features=400, out_features=300, bias=False)\n",
       "  (rnn_dec): GRU(300, 300, num_layers=3, dropout=0.1)\n",
       "  (out_drop): Dropout(p=0.35)\n",
       "  (out): Linear(in_features=300, out_features=33465, bias=True)\n",
       ")"
      ]
     },
     "execution_count": 34,
     "metadata": {},
     "output_type": "execute_result"
    }
   ],
   "source": [
    "learn.model.eval()"
   ]
  },
  {
   "cell_type": "markdown",
   "metadata": {},
   "source": [
    "## Beamsearch"
   ]
  },
  {
   "cell_type": "markdown",
   "metadata": {},
   "source": [
    "The original beam-search strategy finds a translation\n",
    "that approximately maximizes the conditional\n",
    "probability given by a specific model. It builds\n",
    "the translation from left-to-right and keeps a fixed\n",
    "number (beam) of translation candidates with the\n",
    "highest log-probability at each time step. For each\n",
    "end-of-sequence symbol that is selected among\n",
    "the highest scoring candidates the beam is reduced\n",
    "by one and the translation is stored into a final candidate\n",
    "list. When the beam is zero, it stops the\n",
    "search and picks the translation with the highest\n",
    "log-probability (normalized by the number of target\n",
    "words) out of the final candidate list.\n",
    "\n",
    "[Source](https://www.aclweb.org/anthology/W17-3207)"
   ]
  },
  {
   "cell_type": "code",
   "execution_count": 35,
   "metadata": {},
   "outputs": [],
   "source": [
    "class HypothesisNode():\n",
    "    \"\"\" Hypothesis Node class for performing Beam Search \"\"\"\n",
    "    def __init__(self, sequence, log_prob, hidden_state):\n",
    "        \"\"\"HypothesisNode constructur\n",
    "        \n",
    "        Args:\n",
    "          sequence: A sequence of tokens\n",
    "          log_prob: The log of the probability of this sequence\n",
    "          hidden_state: The hidden state of the Decoder RNN after decoding the last token in the sequence\n",
    "        \"\"\"\n",
    "        self._seq = sequence\n",
    "        self._log_prob = log_prob\n",
    "        self._h = hidden_state\n",
    "    \n",
    "    @property\n",
    "    def last_tok(self):\n",
    "        \"\"\"\n",
    "        Returns:\n",
    "          The last token in the sequence\n",
    "        \"\"\"\n",
    "        return self._seq[-1]\n",
    "        \n",
    "    def update(self, tok, log_prob, new_h):\n",
    "        \"\"\"\n",
    "        Updates the sequence with a new token and returns a new Hypothesis Node\n",
    "        Args:\n",
    "          tok: The new token that is appended to the sequence\n",
    "          log_prob: The log of the probability ot this token\n",
    "          new_h: The new hidden state of the Decoder RNN after this token\n",
    "        \n",
    "        Returns:\n",
    "          An Hypothesis Node with the updated sequence, log probability and hidden state\n",
    "        \"\"\"\n",
    "        return HypothesisNode(self._seq + [tok], self._log_prob + log_prob, new_h)\n",
    "    \n",
    "    def __str__(self):\n",
    "        return ('Hyp(log_p = %4f,\\t seq = %s)' % (self._log_prob, vocab.textify([t.item()for t in self._seq])))"
   ]
  },
  {
   "cell_type": "code",
   "execution_count": 36,
   "metadata": {},
   "outputs": [],
   "source": [
    "class BeamSearch():\n",
    "    \"\"\" Performs BeamSearch for seq2seq decoding or Image captioning \"\"\"\n",
    "    def __init__(self, enc_model, dec_model, beam_width, max_len):\n",
    "        \"\"\"BeamSearch object constructor\n",
    "        Args:\n",
    "          enc_model: A seq2seq encoder or cnn for image captioning\n",
    "          dec_model: A RNN decoder model\n",
    "          beam_width: int, the number of hypotheses to remember in each iteration\n",
    "          max_len: int, the longest possible sequence\n",
    "        \"\"\"\n",
    "        self._enc_model = enc_model\n",
    "        self._dec_model = dec_model\n",
    "        self._beam_width = beam_width\n",
    "        self._max_len = max_len\n",
    "        self._start_tok = 0\n",
    "        self._end_tok   = 1\n",
    "        \n",
    "    def search(self, inp_seq, verbose=False):\n",
    "        \"\"\"Performs the Beam search\n",
    "        Args:\n",
    "          inp_seq: the input sequence to be encoded\n",
    "          verbose: bool, allows printing the intermediate hypotheses for better understanding\n",
    "        \n",
    "        Returns:\n",
    "          The 'beam_width' most probable sentences\n",
    "        \"\"\"\n",
    "        inp_seq = torch.tensor(inp_seq).unsqueeze(0).transpose_(0,1).cuda()\n",
    "        _, h = self._enc_model(inp_seq)\n",
    "\n",
    "        hyps = [HypothesisNode([torch.zeros(1, requires_grad=False).long().cuda()], 0, h)]\n",
    "        results = []\n",
    "        \n",
    "        step = 0\n",
    "        width = self._beam_width\n",
    "        while width > 0 and step < self._max_len:\n",
    "            if verbose: print(\"\\n Step: \",step)\n",
    "            new_hyps = []\n",
    "            for h in hyps:\n",
    "                new_hyps.extend(self.get_next_hypotheses(h, width))\n",
    "            \n",
    "            new_hyps = sorted(new_hyps, key= lambda x: x._log_prob, reverse=True)\n",
    "            if verbose: self.print_hypotheses(new_hyps, \"Before narrowing:\")\n",
    "                \n",
    "            hyps = []\n",
    "            for h in new_hyps[:width]:\n",
    "                if h.last_tok == self._end_tok:\n",
    "                    results.append(h)\n",
    "                    width = width - 1\n",
    "                else:\n",
    "                    hyps.append(h)\n",
    "            \n",
    "            if verbose: \n",
    "                self.print_hypotheses(hyps, \"After narrowing:\")\n",
    "                self.print_hypotheses(results, \"Results:\")\n",
    "                \n",
    "            step += 1\n",
    "         \n",
    "        results.extend(hyps[:width])\n",
    "        results = sorted(results, key=lambda x: x._log_prob/len(x._seq), reverse=True)\n",
    "        \n",
    "        if verbose: self.print_hypotheses(results, \"Final:\")\n",
    "        \n",
    "        return [[t.item() for t in r._seq[1:]] for r in results]\n",
    "        \n",
    "    def get_next_hypotheses(self, hyp, k):\n",
    "        \"\"\"Calculates the next 'beam_width' hypotheses given a Hypothesis Node\n",
    "        Args:\n",
    "          hyp: an Hypothesis Node containing a sequence, a log probability and a Decoder RNN hidden state\n",
    "          k: the number of hypotheses to calculate\n",
    "        Returns:\n",
    "          A list with the 'beam_width' most probable sequences/Hypothesis Nodes\n",
    "        \"\"\"\n",
    "\n",
    "        dec_outp, h = self._dec_model(hyp.last_tok, hyp._h)\n",
    "\n",
    "        top_k_log_probs, top_k_toks = dec_outp.topk(k, dim=1)\n",
    "        \n",
    "        return [hyp.update(top_k_toks[0][i].unsqueeze(0), top_k_log_probs[0][i], h) for i in range(k)]\n",
    "    \n",
    "    def print_hypotheses(self, hyps, description):\n",
    "        print(description)\n",
    "        for h in hyps:\n",
    "            print(h)"
   ]
  },
  {
   "cell_type": "code",
   "execution_count": 37,
   "metadata": {},
   "outputs": [],
   "source": [
    "BeamSearcher = BeamSearch(learn.model.encode, learn.model.decode, 5, 30)"
   ]
  },
  {
   "cell_type": "code",
   "execution_count": 59,
   "metadata": {},
   "outputs": [],
   "source": [
    "def show_random_val_prediction(idx:int):\n",
    "    print(idx)\n",
    "    data = learn.data.valid_ds[idx][0]\n",
    "    results = BeamSearcher.search(data, True)\n",
    "\n",
    "    print(\"\\nlabel\\t\",vocab.textify(data))\n",
    "    data = torch.tensor(data).unsqueeze(0).transpose_(0,1).cuda()\n",
    "    res = learn.model((data))\n",
    "    res = res.data.max(2)[1]\n",
    "    res = res.transpose_(0,1).data.cpu().numpy()\n",
    "    print(\"greedy\\t\",vocab.textify(res[0]))\n",
    "\n",
    "    print(\"beam\\t\",vocab.textify(results[0]))\n",
    "    #return (vocab.textify(data),vocab.textify(res[0]) ,vocab.textify(results[0]))"
   ]
  },
  {
   "cell_type": "code",
   "execution_count": 66,
   "metadata": {},
   "outputs": [
    {
     "name": "stdout",
     "output_type": "stream",
     "text": [
      "14955\n",
      "\n",
      " Step:  0\n",
      "Before narrowing:\n",
      "Hyp(log_p = 0.000000,\t seq = xxunk a)\n",
      "Hyp(log_p = -18.613052,\t seq = xxunk the)\n",
      "Hyp(log_p = -21.066547,\t seq = xxunk this)\n",
      "Hyp(log_p = -24.164440,\t seq = xxunk an)\n",
      "Hyp(log_p = -25.172562,\t seq = xxunk my)\n",
      "After narrowing:\n",
      "Hyp(log_p = 0.000000,\t seq = xxunk a)\n",
      "Hyp(log_p = -18.613052,\t seq = xxunk the)\n",
      "Hyp(log_p = -21.066547,\t seq = xxunk this)\n",
      "Hyp(log_p = -24.164440,\t seq = xxunk an)\n",
      "Hyp(log_p = -25.172562,\t seq = xxunk my)\n",
      "Results:\n",
      "\n",
      " Step:  1\n",
      "Before narrowing:\n",
      "Hyp(log_p = 0.000000,\t seq = xxunk a book)\n",
      "Hyp(log_p = -18.211811,\t seq = xxunk a books)\n",
      "Hyp(log_p = -18.613052,\t seq = xxunk the book)\n",
      "Hyp(log_p = -19.470905,\t seq = xxunk a man)\n",
      "Hyp(log_p = -19.613401,\t seq = xxunk a film)\n",
      "Hyp(log_p = -20.703468,\t seq = xxunk a guide)\n",
      "Hyp(log_p = -21.066547,\t seq = xxunk this book)\n",
      "Hyp(log_p = -24.164440,\t seq = xxunk an book)\n",
      "Hyp(log_p = -25.172562,\t seq = xxunk my book)\n",
      "Hyp(log_p = -36.784874,\t seq = xxunk the books)\n",
      "Hyp(log_p = -38.026527,\t seq = xxunk the man)\n",
      "Hyp(log_p = -38.203491,\t seq = xxunk the film)\n",
      "Hyp(log_p = -39.265636,\t seq = xxunk the guide)\n",
      "Hyp(log_p = -39.314732,\t seq = xxunk this books)\n",
      "Hyp(log_p = -40.526432,\t seq = xxunk this man)\n",
      "Hyp(log_p = -40.652817,\t seq = xxunk this film)\n",
      "Hyp(log_p = -41.729435,\t seq = xxunk this guide)\n",
      "Hyp(log_p = -42.350372,\t seq = xxunk an books)\n",
      "Hyp(log_p = -43.363636,\t seq = xxunk my books)\n",
      "Hyp(log_p = -43.583294,\t seq = xxunk an man)\n",
      "Hyp(log_p = -43.757484,\t seq = xxunk an film)\n",
      "Hyp(log_p = -44.605911,\t seq = xxunk my man)\n",
      "Hyp(log_p = -44.761147,\t seq = xxunk my film)\n",
      "Hyp(log_p = -44.864204,\t seq = xxunk an guide)\n",
      "Hyp(log_p = -45.802544,\t seq = xxunk my guide)\n",
      "After narrowing:\n",
      "Hyp(log_p = 0.000000,\t seq = xxunk a book)\n",
      "Hyp(log_p = -18.211811,\t seq = xxunk a books)\n",
      "Hyp(log_p = -18.613052,\t seq = xxunk the book)\n",
      "Hyp(log_p = -19.470905,\t seq = xxunk a man)\n",
      "Hyp(log_p = -19.613401,\t seq = xxunk a film)\n",
      "Results:\n",
      "\n",
      " Step:  2\n",
      "Before narrowing:\n",
      "Hyp(log_p = 0.000000,\t seq = xxunk a book in)\n",
      "Hyp(log_p = -15.661863,\t seq = xxunk a book of)\n",
      "Hyp(log_p = -15.755360,\t seq = xxunk a book front)\n",
      "Hyp(log_p = -17.812927,\t seq = xxunk a book a)\n",
      "Hyp(log_p = -18.165695,\t seq = xxunk a book on)\n",
      "Hyp(log_p = -18.211811,\t seq = xxunk a books in)\n",
      "Hyp(log_p = -18.613052,\t seq = xxunk the book in)\n",
      "Hyp(log_p = -19.470905,\t seq = xxunk a man in)\n",
      "Hyp(log_p = -19.613401,\t seq = xxunk a film in)\n",
      "Hyp(log_p = -33.792702,\t seq = xxunk a books of)\n",
      "Hyp(log_p = -33.938770,\t seq = xxunk a books front)\n",
      "Hyp(log_p = -34.293434,\t seq = xxunk the book of)\n",
      "Hyp(log_p = -34.318928,\t seq = xxunk the book front)\n",
      "Hyp(log_p = -35.208580,\t seq = xxunk a man of)\n",
      "Hyp(log_p = -35.238052,\t seq = xxunk a man front)\n",
      "Hyp(log_p = -35.290993,\t seq = xxunk a film of)\n",
      "Hyp(log_p = -35.300686,\t seq = xxunk a film front)\n",
      "Hyp(log_p = -36.036240,\t seq = xxunk a books a)\n",
      "Hyp(log_p = -36.382500,\t seq = xxunk the book a)\n",
      "Hyp(log_p = -36.404694,\t seq = xxunk a books on)\n",
      "Hyp(log_p = -36.748466,\t seq = xxunk the book on)\n",
      "Hyp(log_p = -37.208847,\t seq = xxunk a man a)\n",
      "Hyp(log_p = -37.353924,\t seq = xxunk a film a)\n",
      "Hyp(log_p = -37.595757,\t seq = xxunk a man on)\n",
      "Hyp(log_p = -37.763752,\t seq = xxunk a film on)\n",
      "After narrowing:\n",
      "Hyp(log_p = 0.000000,\t seq = xxunk a book in)\n",
      "Hyp(log_p = -15.661863,\t seq = xxunk a book of)\n",
      "Hyp(log_p = -15.755360,\t seq = xxunk a book front)\n",
      "Hyp(log_p = -17.812927,\t seq = xxunk a book a)\n",
      "Hyp(log_p = -18.165695,\t seq = xxunk a book on)\n",
      "Results:\n",
      "\n",
      " Step:  3\n",
      "Before narrowing:\n",
      "Hyp(log_p = -0.000008,\t seq = xxunk a book in front)\n",
      "Hyp(log_p = -11.878466,\t seq = xxunk a book in mirror)\n",
      "Hyp(log_p = -15.192680,\t seq = xxunk a book in part)\n",
      "Hyp(log_p = -15.661867,\t seq = xxunk a book of front)\n",
      "Hyp(log_p = -15.755365,\t seq = xxunk a book front front)\n",
      "Hyp(log_p = -16.001293,\t seq = xxunk a book in circle)\n",
      "Hyp(log_p = -17.152760,\t seq = xxunk a book in newspaper)\n",
      "Hyp(log_p = -17.812931,\t seq = xxunk a book a front)\n",
      "Hyp(log_p = -18.165699,\t seq = xxunk a book on front)\n",
      "Hyp(log_p = -27.868694,\t seq = xxunk a book front mirror)\n",
      "Hyp(log_p = -28.254864,\t seq = xxunk a book of mirror)\n",
      "Hyp(log_p = -30.622904,\t seq = xxunk a book front part)\n",
      "Hyp(log_p = -30.648733,\t seq = xxunk a book a mirror)\n",
      "Hyp(log_p = -30.709311,\t seq = xxunk a book on mirror)\n",
      "Hyp(log_p = -30.899912,\t seq = xxunk a book of part)\n",
      "Hyp(log_p = -31.716787,\t seq = xxunk a book front circle)\n",
      "Hyp(log_p = -31.841734,\t seq = xxunk a book of circle)\n",
      "Hyp(log_p = -32.064461,\t seq = xxunk a book front white)\n",
      "Hyp(log_p = -32.615822,\t seq = xxunk a book of white)\n",
      "Hyp(log_p = -32.909252,\t seq = xxunk a book a part)\n",
      "Hyp(log_p = -33.174091,\t seq = xxunk a book on part)\n",
      "Hyp(log_p = -33.749165,\t seq = xxunk a book a circle)\n",
      "Hyp(log_p = -34.112526,\t seq = xxunk a book on white)\n",
      "Hyp(log_p = -34.383728,\t seq = xxunk a book on circle)\n",
      "Hyp(log_p = -34.783176,\t seq = xxunk a book a white)\n",
      "After narrowing:\n",
      "Hyp(log_p = -0.000008,\t seq = xxunk a book in front)\n",
      "Hyp(log_p = -11.878466,\t seq = xxunk a book in mirror)\n",
      "Hyp(log_p = -15.192680,\t seq = xxunk a book in part)\n",
      "Hyp(log_p = -15.661867,\t seq = xxunk a book of front)\n",
      "Hyp(log_p = -15.755365,\t seq = xxunk a book front front)\n",
      "Results:\n",
      "\n",
      " Step:  4\n",
      "Before narrowing:\n",
      "Hyp(log_p = -0.000071,\t seq = xxunk a book in front of)\n",
      "Hyp(log_p = -9.992247,\t seq = xxunk a book in front showing)\n",
      "Hyp(log_p = -11.089113,\t seq = xxunk a book in front shows)\n",
      "Hyp(log_p = -11.878473,\t seq = xxunk a book in mirror of)\n",
      "Hyp(log_p = -13.726242,\t seq = xxunk a book in front ,)\n",
      "Hyp(log_p = -15.192734,\t seq = xxunk a book in part of)\n",
      "Hyp(log_p = -15.528123,\t seq = xxunk a book in front out)\n",
      "Hyp(log_p = -15.662016,\t seq = xxunk a book of front of)\n",
      "Hyp(log_p = -15.755413,\t seq = xxunk a book front front of)\n",
      "Hyp(log_p = -24.111906,\t seq = xxunk a book in mirror showing)\n",
      "Hyp(log_p = -24.743683,\t seq = xxunk a book of front showing)\n",
      "Hyp(log_p = -25.230581,\t seq = xxunk a book in part showing)\n",
      "Hyp(log_p = -25.994106,\t seq = xxunk a book front front showing)\n",
      "Hyp(log_p = -26.065849,\t seq = xxunk a book of front shows)\n",
      "Hyp(log_p = -26.386623,\t seq = xxunk a book in mirror ,)\n",
      "Hyp(log_p = -26.492132,\t seq = xxunk a book in mirror shows)\n",
      "Hyp(log_p = -26.919819,\t seq = xxunk a book in part shows)\n",
      "Hyp(log_p = -27.196276,\t seq = xxunk a book front front shows)\n",
      "Hyp(log_p = -28.451075,\t seq = xxunk a book in mirror with)\n",
      "Hyp(log_p = -28.596066,\t seq = xxunk a book of front ,)\n",
      "Hyp(log_p = -29.388643,\t seq = xxunk a book front front ,)\n",
      "Hyp(log_p = -29.562130,\t seq = xxunk a book in part ,)\n",
      "Hyp(log_p = -30.265064,\t seq = xxunk a book of front is)\n",
      "Hyp(log_p = -30.520037,\t seq = xxunk a book in part with)\n",
      "Hyp(log_p = -31.046856,\t seq = xxunk a book front front is)\n",
      "After narrowing:\n",
      "Hyp(log_p = -0.000071,\t seq = xxunk a book in front of)\n",
      "Hyp(log_p = -9.992247,\t seq = xxunk a book in front showing)\n",
      "Hyp(log_p = -11.089113,\t seq = xxunk a book in front shows)\n",
      "Hyp(log_p = -11.878473,\t seq = xxunk a book in mirror of)\n",
      "Hyp(log_p = -13.726242,\t seq = xxunk a book in front ,)\n",
      "Results:\n",
      "\n",
      " Step:  5\n",
      "Before narrowing:\n",
      "Hyp(log_p = -0.000135,\t seq = xxunk a book in front of a)\n",
      "Hyp(log_p = -9.717659,\t seq = xxunk a book in front of the)\n",
      "Hyp(log_p = -9.992308,\t seq = xxunk a book in front showing a)\n",
      "Hyp(log_p = -11.089190,\t seq = xxunk a book in front shows a)\n",
      "Hyp(log_p = -11.878511,\t seq = xxunk a book in mirror of a)\n",
      "Hyp(log_p = -12.713146,\t seq = xxunk a book in front of an)\n",
      "Hyp(log_p = -13.491901,\t seq = xxunk a book in front of this)\n",
      "Hyp(log_p = -13.726370,\t seq = xxunk a book in front , a)\n",
      "Hyp(log_p = -14.767136,\t seq = xxunk a book in front of her)\n",
      "Hyp(log_p = -19.705469,\t seq = xxunk a book in front showing the)\n",
      "Hyp(log_p = -20.601892,\t seq = xxunk a book in front shows the)\n",
      "Hyp(log_p = -22.105961,\t seq = xxunk a book in mirror of the)\n",
      "Hyp(log_p = -22.755655,\t seq = xxunk a book in front , the)\n",
      "Hyp(log_p = -24.015703,\t seq = xxunk a book in front showing this)\n",
      "Hyp(log_p = -24.908724,\t seq = xxunk a book in front showing an)\n",
      "Hyp(log_p = -25.223118,\t seq = xxunk a book in front shows an)\n",
      "Hyp(log_p = -25.567394,\t seq = xxunk a book in mirror of an)\n",
      "Hyp(log_p = -25.876657,\t seq = xxunk a book in front , an)\n",
      "Hyp(log_p = -26.175177,\t seq = xxunk a book in front shows her)\n",
      "Hyp(log_p = -26.293856,\t seq = xxunk a book in front shows this)\n",
      "Hyp(log_p = -26.365349,\t seq = xxunk a book in front showing her)\n",
      "Hyp(log_p = -26.938643,\t seq = xxunk a book in mirror of this)\n",
      "Hyp(log_p = -27.413734,\t seq = xxunk a book in front , this)\n",
      "Hyp(log_p = -27.546017,\t seq = xxunk a book in front , her)\n",
      "Hyp(log_p = -27.937757,\t seq = xxunk a book in mirror of her)\n",
      "After narrowing:\n",
      "Hyp(log_p = -0.000135,\t seq = xxunk a book in front of a)\n",
      "Hyp(log_p = -9.717659,\t seq = xxunk a book in front of the)\n",
      "Hyp(log_p = -9.992308,\t seq = xxunk a book in front showing a)\n",
      "Hyp(log_p = -11.089190,\t seq = xxunk a book in front shows a)\n",
      "Hyp(log_p = -11.878511,\t seq = xxunk a book in mirror of a)\n",
      "Results:\n",
      "\n",
      " Step:  6\n",
      "Before narrowing:\n",
      "Hyp(log_p = -0.000143,\t seq = xxunk a book in front of a mirror)\n",
      "Hyp(log_p = -9.717669,\t seq = xxunk a book in front of the mirror)\n",
      "Hyp(log_p = -9.992323,\t seq = xxunk a book in front showing a mirror)\n",
      "Hyp(log_p = -11.089211,\t seq = xxunk a book in front shows a mirror)\n",
      "Hyp(log_p = -11.878538,\t seq = xxunk a book in mirror of a mirror)\n",
      "Hyp(log_p = -13.222404,\t seq = xxunk a book in front of a window)\n",
      "Hyp(log_p = -13.500877,\t seq = xxunk a book in front of a reflection)\n",
      "Hyp(log_p = -14.169258,\t seq = xxunk a book in front of a glass)\n",
      "Hyp(log_p = -14.204362,\t seq = xxunk a book in front of a figure)\n",
      "Hyp(log_p = -22.402832,\t seq = xxunk a book in front showing a window)\n",
      "Hyp(log_p = -22.602110,\t seq = xxunk a book in front of the window)\n",
      "Hyp(log_p = -22.631081,\t seq = xxunk a book in front showing a glass)\n",
      "Hyp(log_p = -23.088654,\t seq = xxunk a book in front showing a picture)\n",
      "Hyp(log_p = -23.157324,\t seq = xxunk a book in front shows a window)\n",
      "Hyp(log_p = -23.224310,\t seq = xxunk a book in front of the glass)\n",
      "Hyp(log_p = -23.400045,\t seq = xxunk a book in front of the reflection)\n",
      "Hyp(log_p = -23.746614,\t seq = xxunk a book in front showing a reflection)\n",
      "Hyp(log_p = -23.894783,\t seq = xxunk a book in front shows a reflection)\n",
      "Hyp(log_p = -23.960310,\t seq = xxunk a book in front of the figure)\n",
      "Hyp(log_p = -24.109695,\t seq = xxunk a book in front shows a glass)\n",
      "Hyp(log_p = -24.202587,\t seq = xxunk a book in mirror of a showing)\n",
      "Hyp(log_p = -24.325600,\t seq = xxunk a book in front shows a picture)\n",
      "Hyp(log_p = -24.470768,\t seq = xxunk a book in mirror of a window)\n",
      "Hyp(log_p = -24.595974,\t seq = xxunk a book in mirror of a reflection)\n",
      "Hyp(log_p = -24.719538,\t seq = xxunk a book in mirror of a view)\n",
      "After narrowing:\n",
      "Hyp(log_p = -0.000143,\t seq = xxunk a book in front of a mirror)\n",
      "Hyp(log_p = -9.717669,\t seq = xxunk a book in front of the mirror)\n",
      "Hyp(log_p = -9.992323,\t seq = xxunk a book in front showing a mirror)\n",
      "Hyp(log_p = -11.089211,\t seq = xxunk a book in front shows a mirror)\n",
      "Hyp(log_p = -11.878538,\t seq = xxunk a book in mirror of a mirror)\n",
      "Results:\n",
      "\n",
      " Step:  7\n",
      "Before narrowing:\n",
      "Hyp(log_p = -0.000219,\t seq = xxunk a book in front of a mirror showing)\n",
      "Hyp(log_p = -9.717974,\t seq = xxunk a book in front of the mirror showing)\n",
      "Hyp(log_p = -9.992460,\t seq = xxunk a book in front showing a mirror showing)\n",
      "Hyp(log_p = -10.466614,\t seq = xxunk a book in front of a mirror wearing)\n",
      "Hyp(log_p = -11.089333,\t seq = xxunk a book in front shows a mirror showing)\n",
      "Hyp(log_p = -11.417021,\t seq = xxunk a book in front of a mirror giving)\n",
      "Hyp(log_p = -11.514048,\t seq = xxunk a book in front of a mirror shows)\n",
      "Hyp(log_p = -11.561100,\t seq = xxunk a book in front of a mirror without)\n",
      "Hyp(log_p = -11.878620,\t seq = xxunk a book in mirror of a mirror showing)\n",
      "Hyp(log_p = -18.790239,\t seq = xxunk a book in front of the mirror wearing)\n",
      "Hyp(log_p = -19.270803,\t seq = xxunk a book in front of the mirror having)\n",
      "Hyp(log_p = -20.126213,\t seq = xxunk a book in front of the mirror with)\n",
      "Hyp(log_p = -20.273808,\t seq = xxunk a book in front of the mirror giving)\n",
      "Hyp(log_p = -20.409435,\t seq = xxunk a book in front showing a mirror wearing)\n",
      "Hyp(log_p = -20.546133,\t seq = xxunk a book in front showing a mirror without)\n",
      "Hyp(log_p = -20.612110,\t seq = xxunk a book in front showing a mirror shows)\n",
      "Hyp(log_p = -21.206127,\t seq = xxunk a book in front showing a mirror giving)\n",
      "Hyp(log_p = -21.223129,\t seq = xxunk a book in front shows a mirror without)\n",
      "Hyp(log_p = -21.715942,\t seq = xxunk a book in front shows a mirror wearing)\n",
      "Hyp(log_p = -22.018879,\t seq = xxunk a book in front shows a mirror with)\n",
      "Hyp(log_p = -22.270506,\t seq = xxunk a book in mirror of a mirror wearing)\n",
      "Hyp(log_p = -22.500607,\t seq = xxunk a book in front shows a mirror giving)\n",
      "Hyp(log_p = -23.234497,\t seq = xxunk a book in mirror of a mirror giving)\n",
      "Hyp(log_p = -23.325661,\t seq = xxunk a book in mirror of a mirror shows)\n",
      "Hyp(log_p = -23.406445,\t seq = xxunk a book in mirror of a mirror without)\n",
      "After narrowing:\n",
      "Hyp(log_p = -0.000219,\t seq = xxunk a book in front of a mirror showing)\n",
      "Hyp(log_p = -9.717974,\t seq = xxunk a book in front of the mirror showing)\n",
      "Hyp(log_p = -9.992460,\t seq = xxunk a book in front showing a mirror showing)\n",
      "Hyp(log_p = -10.466614,\t seq = xxunk a book in front of a mirror wearing)\n",
      "Hyp(log_p = -11.089333,\t seq = xxunk a book in front shows a mirror showing)\n",
      "Results:\n",
      "\n",
      " Step:  8\n",
      "Before narrowing:\n",
      "Hyp(log_p = -0.003885,\t seq = xxunk a book in front of a mirror showing a)\n",
      "Hyp(log_p = -5.630844,\t seq = xxunk a book in front of a mirror showing her)\n",
      "Hyp(log_p = -9.718824,\t seq = xxunk a book in front of the mirror showing a)\n",
      "Hyp(log_p = -9.996927,\t seq = xxunk a book in front showing a mirror showing a)\n",
      "Hyp(log_p = -10.167006,\t seq = xxunk a book in front of a mirror showing their)\n",
      "Hyp(log_p = -10.470648,\t seq = xxunk a book in front of a mirror wearing a)\n",
      "Hyp(log_p = -10.838202,\t seq = xxunk a book in front of a mirror showing his)\n",
      "Hyp(log_p = -11.092621,\t seq = xxunk a book in front shows a mirror showing a)\n",
      "Hyp(log_p = -11.222471,\t seq = xxunk a book in front of a mirror showing the)\n",
      "Hyp(log_p = -15.428268,\t seq = xxunk a book in front showing a mirror showing her)\n",
      "Hyp(log_p = -16.015415,\t seq = xxunk a book in front of a mirror wearing her)\n",
      "Hyp(log_p = -16.807749,\t seq = xxunk a book in front of the mirror showing her)\n",
      "Hyp(log_p = -16.831097,\t seq = xxunk a book in front shows a mirror showing her)\n",
      "Hyp(log_p = -19.611437,\t seq = xxunk a book in front showing a mirror showing their)\n",
      "Hyp(log_p = -20.133539,\t seq = xxunk a book in front of a mirror wearing their)\n",
      "Hyp(log_p = -20.588421,\t seq = xxunk a book in front of a mirror wearing the)\n",
      "Hyp(log_p = -20.747133,\t seq = xxunk a book in front showing a mirror showing his)\n",
      "Hyp(log_p = -20.975067,\t seq = xxunk a book in front of a mirror wearing his)\n",
      "Hyp(log_p = -21.024542,\t seq = xxunk a book in front shows a mirror showing their)\n",
      "Hyp(log_p = -21.330137,\t seq = xxunk a book in front of the mirror showing their)\n",
      "Hyp(log_p = -21.494226,\t seq = xxunk a book in front showing a mirror showing the)\n",
      "Hyp(log_p = -21.623957,\t seq = xxunk a book in front of the mirror showing his)\n",
      "Hyp(log_p = -22.339777,\t seq = xxunk a book in front shows a mirror showing his)\n",
      "Hyp(log_p = -22.501019,\t seq = xxunk a book in front shows a mirror showing the)\n",
      "Hyp(log_p = -24.353813,\t seq = xxunk a book in front of the mirror showing the)\n",
      "After narrowing:\n",
      "Hyp(log_p = -0.003885,\t seq = xxunk a book in front of a mirror showing a)\n",
      "Hyp(log_p = -5.630844,\t seq = xxunk a book in front of a mirror showing her)\n",
      "Hyp(log_p = -9.718824,\t seq = xxunk a book in front of the mirror showing a)\n",
      "Hyp(log_p = -9.996927,\t seq = xxunk a book in front showing a mirror showing a)\n",
      "Hyp(log_p = -10.167006,\t seq = xxunk a book in front of a mirror showing their)\n",
      "Results:\n",
      "\n",
      " Step:  9\n",
      "Before narrowing:\n",
      "Hyp(log_p = -0.004152,\t seq = xxunk a book in front of a mirror showing a woman)\n",
      "Hyp(log_p = -5.631081,\t seq = xxunk a book in front of a mirror showing her woman)\n",
      "Hyp(log_p = -9.218430,\t seq = xxunk a book in front of a mirror showing a hair)\n",
      "Hyp(log_p = -9.718981,\t seq = xxunk a book in front of the mirror showing a woman)\n",
      "Hyp(log_p = -9.997259,\t seq = xxunk a book in front showing a mirror showing a woman)\n",
      "Hyp(log_p = -10.167150,\t seq = xxunk a book in front of a mirror showing their woman)\n",
      "Hyp(log_p = -10.354750,\t seq = xxunk a book in front of a mirror showing a dancer)\n",
      "Hyp(log_p = -10.423565,\t seq = xxunk a book in front of a mirror showing a women)\n",
      "Hyp(log_p = -10.621937,\t seq = xxunk a book in front of a mirror showing a gown)\n",
      "Hyp(log_p = -15.446381,\t seq = xxunk a book in front of a mirror showing her person)\n",
      "Hyp(log_p = -15.488489,\t seq = xxunk a book in front of a mirror showing her hair)\n",
      "Hyp(log_p = -15.850969,\t seq = xxunk a book in front of a mirror showing her women)\n",
      "Hyp(log_p = -16.355865,\t seq = xxunk a book in front of a mirror showing her dancer)\n",
      "Hyp(log_p = -19.092695,\t seq = xxunk a book in front showing a mirror showing a hair)\n",
      "Hyp(log_p = -19.575314,\t seq = xxunk a book in front of the mirror showing a hair)\n",
      "Hyp(log_p = -19.938099,\t seq = xxunk a book in front showing a mirror showing a gown)\n",
      "Hyp(log_p = -20.147383,\t seq = xxunk a book in front of a mirror showing their hair)\n",
      "Hyp(log_p = -20.208586,\t seq = xxunk a book in front showing a mirror showing a dancer)\n",
      "Hyp(log_p = -20.336281,\t seq = xxunk a book in front showing a mirror showing a person)\n",
      "Hyp(log_p = -20.531284,\t seq = xxunk a book in front of a mirror showing their dancer)\n",
      "Hyp(log_p = -20.599268,\t seq = xxunk a book in front of the mirror showing a dancer)\n",
      "Hyp(log_p = -20.692942,\t seq = xxunk a book in front of the mirror showing a women)\n",
      "Hyp(log_p = -20.723904,\t seq = xxunk a book in front of the mirror showing a gown)\n",
      "Hyp(log_p = -21.319094,\t seq = xxunk a book in front of a mirror showing their gown)\n",
      "Hyp(log_p = -21.551262,\t seq = xxunk a book in front of a mirror showing their person)\n",
      "After narrowing:\n",
      "Hyp(log_p = -0.004152,\t seq = xxunk a book in front of a mirror showing a woman)\n",
      "Hyp(log_p = -5.631081,\t seq = xxunk a book in front of a mirror showing her woman)\n",
      "Hyp(log_p = -9.218430,\t seq = xxunk a book in front of a mirror showing a hair)\n",
      "Hyp(log_p = -9.718981,\t seq = xxunk a book in front of the mirror showing a woman)\n",
      "Hyp(log_p = -9.997259,\t seq = xxunk a book in front showing a mirror showing a woman)\n",
      "Results:\n",
      "\n",
      " Step:  10\n",
      "Before narrowing:\n",
      "Hyp(log_p = -0.019678,\t seq = xxunk a book in front of a mirror showing a woman having)\n",
      "Hyp(log_p = -4.949056,\t seq = xxunk a book in front of a mirror showing a woman wearing)\n",
      "Hyp(log_p = -5.654160,\t seq = xxunk a book in front of a mirror showing her woman having)\n",
      "Hyp(log_p = -6.102993,\t seq = xxunk a book in front of a mirror showing a woman had)\n",
      "Hyp(log_p = -6.509246,\t seq = xxunk a book in front of a mirror showing a woman showing)\n",
      "Hyp(log_p = -7.209441,\t seq = xxunk a book in front of a mirror showing a woman giving)\n",
      "Hyp(log_p = -9.236746,\t seq = xxunk a book in front of a mirror showing a hair having)\n",
      "Hyp(log_p = -9.737125,\t seq = xxunk a book in front of the mirror showing a woman having)\n",
      "Hyp(log_p = -9.757061,\t seq = xxunk a book in front of a mirror showing her woman wearing)\n",
      "Hyp(log_p = -10.013304,\t seq = xxunk a book in front showing a mirror showing a woman having)\n",
      "Hyp(log_p = -11.798672,\t seq = xxunk a book in front of a mirror showing her woman had)\n",
      "Hyp(log_p = -12.412059,\t seq = xxunk a book in front of a mirror showing her woman showing)\n",
      "Hyp(log_p = -13.290359,\t seq = xxunk a book in front of a mirror showing her woman giving)\n",
      "Hyp(log_p = -14.015825,\t seq = xxunk a book in front of a mirror showing a hair wearing)\n",
      "Hyp(log_p = -14.542996,\t seq = xxunk a book in front of the mirror showing a woman wearing)\n",
      "Hyp(log_p = -14.706042,\t seq = xxunk a book in front of a mirror showing a hair had)\n",
      "Hyp(log_p = -15.033380,\t seq = xxunk a book in front showing a mirror showing a woman wearing)\n",
      "Hyp(log_p = -15.542095,\t seq = xxunk a book in front of the mirror showing a woman had)\n",
      "Hyp(log_p = -15.788472,\t seq = xxunk a book in front of a mirror showing a hair being)\n",
      "Hyp(log_p = -15.851424,\t seq = xxunk a book in front showing a mirror showing a woman had)\n",
      "Hyp(log_p = -15.919478,\t seq = xxunk a book in front of the mirror showing a woman showing)\n",
      "Hyp(log_p = -16.519442,\t seq = xxunk a book in front of a mirror showing a hair giving)\n",
      "Hyp(log_p = -16.642227,\t seq = xxunk a book in front showing a mirror showing a woman showing)\n",
      "Hyp(log_p = -16.710920,\t seq = xxunk a book in front of the mirror showing a woman giving)\n",
      "Hyp(log_p = -16.897358,\t seq = xxunk a book in front showing a mirror showing a woman being)\n",
      "After narrowing:\n",
      "Hyp(log_p = -0.019678,\t seq = xxunk a book in front of a mirror showing a woman having)\n",
      "Hyp(log_p = -4.949056,\t seq = xxunk a book in front of a mirror showing a woman wearing)\n",
      "Hyp(log_p = -5.654160,\t seq = xxunk a book in front of a mirror showing her woman having)\n",
      "Hyp(log_p = -6.102993,\t seq = xxunk a book in front of a mirror showing a woman had)\n",
      "Hyp(log_p = -6.509246,\t seq = xxunk a book in front of a mirror showing a woman showing)\n",
      "Results:\n",
      "\n",
      " Step:  11\n",
      "Before narrowing:\n",
      "Hyp(log_p = -0.048977,\t seq = xxunk a book in front of a mirror showing a woman having her)\n",
      "Hyp(log_p = -3.729204,\t seq = xxunk a book in front of a mirror showing a woman having makeup)\n",
      "Hyp(log_p = -4.958489,\t seq = xxunk a book in front of a mirror showing a woman wearing her)\n",
      "Hyp(log_p = -6.177124,\t seq = xxunk a book in front of a mirror showing a woman had her)\n",
      "Hyp(log_p = -6.508753,\t seq = xxunk a book in front of a mirror showing her woman having her)\n",
      "Hyp(log_p = -6.515929,\t seq = xxunk a book in front of a mirror showing a woman showing her)\n",
      "Hyp(log_p = -6.703535,\t seq = xxunk a book in front of a mirror showing her woman having a)\n",
      "Hyp(log_p = -6.857046,\t seq = xxunk a book in front of a mirror showing a woman having been)\n",
      "Hyp(log_p = -6.909760,\t seq = xxunk a book in front of a mirror showing a woman having their)\n",
      "Hyp(log_p = -7.357959,\t seq = xxunk a book in front of a mirror showing a woman having the)\n",
      "Hyp(log_p = -7.498133,\t seq = xxunk a book in front of a mirror showing her woman having makeup)\n",
      "Hyp(log_p = -8.816902,\t seq = xxunk a book in front of a mirror showing a woman had makeup)\n",
      "Hyp(log_p = -8.984607,\t seq = xxunk a book in front of a mirror showing her woman having been)\n",
      "Hyp(log_p = -10.103002,\t seq = xxunk a book in front of a mirror showing a woman wearing makeup)\n",
      "Hyp(log_p = -10.447227,\t seq = xxunk a book in front of a mirror showing her woman having their)\n",
      "Hyp(log_p = -11.783527,\t seq = xxunk a book in front of a mirror showing a woman wearing my)\n",
      "Hyp(log_p = -12.042626,\t seq = xxunk a book in front of a mirror showing a woman showing makeup)\n",
      "Hyp(log_p = -12.083154,\t seq = xxunk a book in front of a mirror showing a woman wearing their)\n",
      "Hyp(log_p = -12.372750,\t seq = xxunk a book in front of a mirror showing a woman wearing been)\n",
      "Hyp(log_p = -12.700782,\t seq = xxunk a book in front of a mirror showing a woman had been)\n",
      "Hyp(log_p = -12.981022,\t seq = xxunk a book in front of a mirror showing a woman had their)\n",
      "Hyp(log_p = -13.650926,\t seq = xxunk a book in front of a mirror showing a woman showing been)\n",
      "Hyp(log_p = -13.735404,\t seq = xxunk a book in front of a mirror showing a woman had any)\n",
      "Hyp(log_p = -13.880472,\t seq = xxunk a book in front of a mirror showing a woman showing their)\n",
      "Hyp(log_p = -14.337468,\t seq = xxunk a book in front of a mirror showing a woman showing my)\n",
      "After narrowing:\n",
      "Hyp(log_p = -0.048977,\t seq = xxunk a book in front of a mirror showing a woman having her)\n",
      "Hyp(log_p = -3.729204,\t seq = xxunk a book in front of a mirror showing a woman having makeup)\n",
      "Hyp(log_p = -4.958489,\t seq = xxunk a book in front of a mirror showing a woman wearing her)\n",
      "Hyp(log_p = -6.177124,\t seq = xxunk a book in front of a mirror showing a woman had her)\n",
      "Hyp(log_p = -6.508753,\t seq = xxunk a book in front of a mirror showing her woman having her)\n",
      "Results:\n",
      "\n",
      " Step:  12\n",
      "Before narrowing:\n",
      "Hyp(log_p = -0.049007,\t seq = xxunk a book in front of a mirror showing a woman having her makeup)\n",
      "Hyp(log_p = -3.729328,\t seq = xxunk a book in front of a mirror showing a woman having makeup makeup)\n",
      "Hyp(log_p = -4.958562,\t seq = xxunk a book in front of a mirror showing a woman wearing her makeup)\n",
      "Hyp(log_p = -6.177141,\t seq = xxunk a book in front of a mirror showing a woman had her makeup)\n",
      "Hyp(log_p = -6.508787,\t seq = xxunk a book in front of a mirror showing her woman having her makeup)\n",
      "Hyp(log_p = -11.072890,\t seq = xxunk a book in front of a mirror showing a woman having her done)\n",
      "Hyp(log_p = -13.132621,\t seq = xxunk a book in front of a mirror showing a woman having makeup done)\n",
      "Hyp(log_p = -13.670685,\t seq = xxunk a book in front of a mirror showing a woman having her facial)\n",
      "Hyp(log_p = -14.061671,\t seq = xxunk a book in front of a mirror showing a woman having her hair)\n",
      "Hyp(log_p = -14.704239,\t seq = xxunk a book in front of a mirror showing a woman having her surgery)\n",
      "Hyp(log_p = -15.284754,\t seq = xxunk a book in front of a mirror showing a woman wearing her done)\n",
      "Hyp(log_p = -15.725296,\t seq = xxunk a book in front of a mirror showing a woman having makeup hair)\n",
      "Hyp(log_p = -16.678413,\t seq = xxunk a book in front of a mirror showing a woman having makeup facial)\n",
      "Hyp(log_p = -16.788555,\t seq = xxunk a book in front of a mirror showing a woman having makeup costume)\n",
      "Hyp(log_p = -17.028881,\t seq = xxunk a book in front of a mirror showing a woman wearing her surgery)\n",
      "Hyp(log_p = -17.674835,\t seq = xxunk a book in front of a mirror showing her woman having her done)\n",
      "Hyp(log_p = -17.955618,\t seq = xxunk a book in front of a mirror showing a woman wearing her hair)\n",
      "Hyp(log_p = -18.166840,\t seq = xxunk a book in front of a mirror showing a woman had her done)\n",
      "Hyp(log_p = -18.187664,\t seq = xxunk a book in front of a mirror showing a woman wearing her facial)\n",
      "Hyp(log_p = -19.691328,\t seq = xxunk a book in front of a mirror showing a woman had her facial)\n",
      "Hyp(log_p = -19.710453,\t seq = xxunk a book in front of a mirror showing her woman having her facial)\n",
      "Hyp(log_p = -20.276611,\t seq = xxunk a book in front of a mirror showing a woman had her hair)\n",
      "Hyp(log_p = -20.672228,\t seq = xxunk a book in front of a mirror showing a woman had her surgery)\n",
      "Hyp(log_p = -21.102699,\t seq = xxunk a book in front of a mirror showing her woman having her hair)\n"
     ]
    },
    {
     "name": "stdout",
     "output_type": "stream",
     "text": [
      "Hyp(log_p = -21.217234,\t seq = xxunk a book in front of a mirror showing her woman having her surgery)\n",
      "After narrowing:\n",
      "Hyp(log_p = -0.049007,\t seq = xxunk a book in front of a mirror showing a woman having her makeup)\n",
      "Hyp(log_p = -3.729328,\t seq = xxunk a book in front of a mirror showing a woman having makeup makeup)\n",
      "Hyp(log_p = -4.958562,\t seq = xxunk a book in front of a mirror showing a woman wearing her makeup)\n",
      "Hyp(log_p = -6.177141,\t seq = xxunk a book in front of a mirror showing a woman had her makeup)\n",
      "Hyp(log_p = -6.508787,\t seq = xxunk a book in front of a mirror showing her woman having her makeup)\n",
      "Results:\n",
      "\n",
      " Step:  13\n",
      "Before narrowing:\n",
      "Hyp(log_p = -0.715212,\t seq = xxunk a book in front of a mirror showing a woman having her makeup done)\n",
      "Hyp(log_p = -0.770220,\t seq = xxunk a book in front of a mirror showing a woman having her makeup makeup)\n",
      "Hyp(log_p = -3.844851,\t seq = xxunk a book in front of a mirror showing a woman having makeup makeup done)\n",
      "Hyp(log_p = -5.208604,\t seq = xxunk a book in front of a mirror showing a woman wearing her makeup done)\n",
      "Hyp(log_p = -5.947903,\t seq = xxunk a book in front of a mirror showing a woman having makeup makeup makeup)\n",
      "Hyp(log_p = -6.467971,\t seq = xxunk a book in front of a mirror showing a woman wearing her makeup makeup)\n",
      "Hyp(log_p = -6.818924,\t seq = xxunk a book in front of a mirror showing a woman had her makeup makeup)\n",
      "Hyp(log_p = -6.924805,\t seq = xxunk a book in front of a mirror showing a woman had her makeup done)\n",
      "Hyp(log_p = -7.009850,\t seq = xxunk a book in front of a mirror showing her woman having her makeup makeup)\n",
      "Hyp(log_p = -7.440416,\t seq = xxunk a book in front of a mirror showing her woman having her makeup done)\n",
      "Hyp(log_p = -11.430194,\t seq = xxunk a book in front of a mirror showing a woman having her makeup carefully)\n",
      "Hyp(log_p = -11.448990,\t seq = xxunk a book in front of a mirror showing a woman having her makeup design)\n",
      "Hyp(log_p = -11.654611,\t seq = xxunk a book in front of a mirror showing a woman having her makeup applying)\n",
      "Hyp(log_p = -14.209188,\t seq = xxunk a book in front of a mirror showing a woman having makeup makeup out)\n",
      "Hyp(log_p = -14.276193,\t seq = xxunk a book in front of a mirror showing a woman having makeup makeup design)\n",
      "Hyp(log_p = -14.501875,\t seq = xxunk a book in front of a mirror showing a woman having makeup makeup carefully)\n",
      "Hyp(log_p = -16.167248,\t seq = xxunk a book in front of a mirror showing a woman wearing her makeup carefully)\n",
      "Hyp(log_p = -16.495651,\t seq = xxunk a book in front of a mirror showing a woman wearing her makeup completely)\n",
      "Hyp(log_p = -16.757645,\t seq = xxunk a book in front of a mirror showing a woman wearing her makeup applying)\n",
      "Hyp(log_p = -17.112076,\t seq = xxunk a book in front of a mirror showing a woman had her makeup applying)\n",
      "Hyp(log_p = -17.775330,\t seq = xxunk a book in front of a mirror showing a woman had her makeup photographed)\n",
      "Hyp(log_p = -17.835260,\t seq = xxunk a book in front of a mirror showing her woman having her makeup design)\n",
      "Hyp(log_p = -18.036705,\t seq = xxunk a book in front of a mirror showing her woman having her makeup carefully)\n",
      "Hyp(log_p = -18.062244,\t seq = xxunk a book in front of a mirror showing a woman had her makeup isolated)\n",
      "Hyp(log_p = -18.092159,\t seq = xxunk a book in front of a mirror showing her woman having her makeup applying)\n",
      "After narrowing:\n",
      "Hyp(log_p = -0.715212,\t seq = xxunk a book in front of a mirror showing a woman having her makeup done)\n",
      "Hyp(log_p = -0.770220,\t seq = xxunk a book in front of a mirror showing a woman having her makeup makeup)\n",
      "Hyp(log_p = -3.844851,\t seq = xxunk a book in front of a mirror showing a woman having makeup makeup done)\n",
      "Hyp(log_p = -5.208604,\t seq = xxunk a book in front of a mirror showing a woman wearing her makeup done)\n",
      "Hyp(log_p = -5.947903,\t seq = xxunk a book in front of a mirror showing a woman having makeup makeup makeup)\n",
      "Results:\n",
      "\n",
      " Step:  14\n",
      "Before narrowing:\n",
      "Hyp(log_p = -0.718119,\t seq = xxunk a book in front of a mirror showing a woman having her makeup done by)\n",
      "Hyp(log_p = -0.773029,\t seq = xxunk a book in front of a mirror showing a woman having her makeup makeup by)\n",
      "Hyp(log_p = -3.846918,\t seq = xxunk a book in front of a mirror showing a woman having makeup makeup done by)\n",
      "Hyp(log_p = -5.212626,\t seq = xxunk a book in front of a mirror showing a woman wearing her makeup done by)\n",
      "Hyp(log_p = -5.949617,\t seq = xxunk a book in front of a mirror showing a woman having makeup makeup makeup by)\n",
      "Hyp(log_p = -7.146885,\t seq = xxunk a book in front of a mirror showing a woman having her makeup done on)\n",
      "Hyp(log_p = -7.161297,\t seq = xxunk a book in front of a mirror showing a woman having her makeup makeup on)\n",
      "Hyp(log_p = -7.538158,\t seq = xxunk a book in front of a mirror showing a woman having her makeup done for)\n",
      "Hyp(log_p = -7.719196,\t seq = xxunk a book in front of a mirror showing a woman having her makeup makeup for)\n",
      "Hyp(log_p = -10.510834,\t seq = xxunk a book in front of a mirror showing a woman having makeup makeup done for)\n",
      "Hyp(log_p = -10.511599,\t seq = xxunk a book in front of a mirror showing a woman having her makeup done against)\n",
      "Hyp(log_p = -10.994395,\t seq = xxunk a book in front of a mirror showing a woman wearing her makeup done on)\n",
      "Hyp(log_p = -11.020508,\t seq = xxunk a book in front of a mirror showing a woman having her makeup makeup done)\n",
      "Hyp(log_p = -11.140736,\t seq = xxunk a book in front of a mirror showing a woman having her makeup makeup against)\n",
      "Hyp(log_p = -11.151831,\t seq = xxunk a book in front of a mirror showing a woman having makeup makeup done on)\n",
      "Hyp(log_p = -11.330133,\t seq = xxunk a book in front of a mirror showing a woman having her makeup done using)\n",
      "Hyp(log_p = -12.455150,\t seq = xxunk a book in front of a mirror showing a woman wearing her makeup done for)\n",
      "Hyp(log_p = -12.878630,\t seq = xxunk a book in front of a mirror showing a woman having makeup makeup makeup for)\n",
      "Hyp(log_p = -13.267916,\t seq = xxunk a book in front of a mirror showing a woman having makeup makeup makeup on)\n",
      "Hyp(log_p = -14.709711,\t seq = xxunk a book in front of a mirror showing a woman having makeup makeup done through)\n",
      "Hyp(log_p = -14.911742,\t seq = xxunk a book in front of a mirror showing a woman having makeup makeup done during)\n",
      "Hyp(log_p = -15.234366,\t seq = xxunk a book in front of a mirror showing a woman wearing her makeup done using)\n",
      "Hyp(log_p = -15.647820,\t seq = xxunk a book in front of a mirror showing a woman wearing her makeup done through)\n",
      "Hyp(log_p = -17.175076,\t seq = xxunk a book in front of a mirror showing a woman having makeup makeup makeup using)\n",
      "Hyp(log_p = -17.359539,\t seq = xxunk a book in front of a mirror showing a woman having makeup makeup makeup through)\n",
      "After narrowing:\n",
      "Hyp(log_p = -0.718119,\t seq = xxunk a book in front of a mirror showing a woman having her makeup done by)\n",
      "Hyp(log_p = -0.773029,\t seq = xxunk a book in front of a mirror showing a woman having her makeup makeup by)\n",
      "Hyp(log_p = -3.846918,\t seq = xxunk a book in front of a mirror showing a woman having makeup makeup done by)\n",
      "Hyp(log_p = -5.212626,\t seq = xxunk a book in front of a mirror showing a woman wearing her makeup done by)\n",
      "Hyp(log_p = -5.949617,\t seq = xxunk a book in front of a mirror showing a woman having makeup makeup makeup by)\n",
      "Results:\n",
      "\n",
      " Step:  15\n",
      "Before narrowing:\n",
      "Hyp(log_p = -0.718296,\t seq = xxunk a book in front of a mirror showing a woman having her makeup done by a)\n",
      "Hyp(log_p = -0.773338,\t seq = xxunk a book in front of a mirror showing a woman having her makeup makeup by a)\n",
      "Hyp(log_p = -3.848528,\t seq = xxunk a book in front of a mirror showing a woman having makeup makeup done by a)\n",
      "Hyp(log_p = -5.212789,\t seq = xxunk a book in front of a mirror showing a woman wearing her makeup done by a)\n",
      "Hyp(log_p = -5.952662,\t seq = xxunk a book in front of a mirror showing a woman having makeup makeup makeup by a)\n",
      "Hyp(log_p = -10.269994,\t seq = xxunk a book in front of a mirror showing a woman having her makeup makeup by her)\n",
      "Hyp(log_p = -10.291730,\t seq = xxunk a book in front of a mirror showing a woman having her makeup makeup by by)\n",
      "Hyp(log_p = -10.505537,\t seq = xxunk a book in front of a mirror showing a woman having makeup makeup done by her)\n",
      "Hyp(log_p = -10.606846,\t seq = xxunk a book in front of a mirror showing a woman having her makeup done by her)\n",
      "Hyp(log_p = -10.734248,\t seq = xxunk a book in front of a mirror showing a woman having her makeup done by an)\n",
      "Hyp(log_p = -10.771898,\t seq = xxunk a book in front of a mirror showing a woman having her makeup makeup by his)\n",
      "Hyp(log_p = -11.309748,\t seq = xxunk a book in front of a mirror showing a woman having her makeup makeup by an)\n",
      "Hyp(log_p = -11.775816,\t seq = xxunk a book in front of a mirror showing a woman having her makeup done by the)\n",
      "Hyp(log_p = -11.888208,\t seq = xxunk a book in front of a mirror showing a woman having her makeup done by american)\n",
      "Hyp(log_p = -12.076601,\t seq = xxunk a book in front of a mirror showing a woman having makeup makeup makeup by her)\n",
      "Hyp(log_p = -12.997593,\t seq = xxunk a book in front of a mirror showing a woman having makeup makeup done by an)\n",
      "Hyp(log_p = -13.748543,\t seq = xxunk a book in front of a mirror showing a woman having makeup makeup done by his)\n",
      "Hyp(log_p = -13.822656,\t seq = xxunk a book in front of a mirror showing a woman having makeup makeup done by makeup)\n",
      "Hyp(log_p = -14.217401,\t seq = xxunk a book in front of a mirror showing a woman having makeup makeup makeup by by)\n",
      "Hyp(log_p = -14.390011,\t seq = xxunk a book in front of a mirror showing a woman having makeup makeup makeup by his)\n",
      "Hyp(log_p = -14.911788,\t seq = xxunk a book in front of a mirror showing a woman wearing her makeup done by her)\n",
      "Hyp(log_p = -15.289123,\t seq = xxunk a book in front of a mirror showing a woman having makeup makeup makeup by my)\n",
      "Hyp(log_p = -15.883791,\t seq = xxunk a book in front of a mirror showing a woman wearing her makeup done by an)\n",
      "Hyp(log_p = -16.048889,\t seq = xxunk a book in front of a mirror showing a woman wearing her makeup done by his)\n",
      "Hyp(log_p = -16.273245,\t seq = xxunk a book in front of a mirror showing a woman wearing her makeup done by the)\n",
      "After narrowing:\n",
      "Hyp(log_p = -0.718296,\t seq = xxunk a book in front of a mirror showing a woman having her makeup done by a)\n",
      "Hyp(log_p = -0.773338,\t seq = xxunk a book in front of a mirror showing a woman having her makeup makeup by a)\n",
      "Hyp(log_p = -3.848528,\t seq = xxunk a book in front of a mirror showing a woman having makeup makeup done by a)\n",
      "Hyp(log_p = -5.212789,\t seq = xxunk a book in front of a mirror showing a woman wearing her makeup done by a)\n",
      "Hyp(log_p = -5.952662,\t seq = xxunk a book in front of a mirror showing a woman having makeup makeup makeup by a)\n",
      "Results:\n",
      "\n",
      " Step:  16\n",
      "Before narrowing:\n",
      "Hyp(log_p = -0.718336,\t seq = xxunk a book in front of a mirror showing a woman having her makeup done by a makeup)\n",
      "Hyp(log_p = -0.773691,\t seq = xxunk a book in front of a mirror showing a woman having her makeup makeup by a makeup)\n",
      "Hyp(log_p = -3.848587,\t seq = xxunk a book in front of a mirror showing a woman having makeup makeup done by a makeup)\n",
      "Hyp(log_p = -5.212827,\t seq = xxunk a book in front of a mirror showing a woman wearing her makeup done by a makeup)\n",
      "Hyp(log_p = -5.953497,\t seq = xxunk a book in front of a mirror showing a woman having makeup makeup makeup by a makeup)\n",
      "Hyp(log_p = -10.006686,\t seq = xxunk a book in front of a mirror showing a woman having her makeup makeup by a artist)\n",
      "Hyp(log_p = -10.199729,\t seq = xxunk a book in front of a mirror showing a woman having her makeup makeup by a done)\n",
      "Hyp(log_p = -11.844088,\t seq = xxunk a book in front of a mirror showing a woman having her makeup done by a artist)\n",
      "Hyp(log_p = -12.281568,\t seq = xxunk a book in front of a mirror showing a woman having her makeup makeup by a visual)\n",
      "Hyp(log_p = -12.700086,\t seq = xxunk a book in front of a mirror showing a woman having her makeup makeup by a facial)\n",
      "Hyp(log_p = -13.805722,\t seq = xxunk a book in front of a mirror showing a woman having makeup makeup makeup by a done)\n",
      "Hyp(log_p = -13.860491,\t seq = xxunk a book in front of a mirror showing a woman having her makeup done by a white)\n",
      "Hyp(log_p = -14.230474,\t seq = xxunk a book in front of a mirror showing a woman having her makeup done by a rock)\n",
      "Hyp(log_p = -14.574639,\t seq = xxunk a book in front of a mirror showing a woman having her makeup done by a printmaking)\n",
      "Hyp(log_p = -14.837334,\t seq = xxunk a book in front of a mirror showing a woman having makeup makeup done by a artist)\n",
      "Hyp(log_p = -15.073661,\t seq = xxunk a book in front of a mirror showing a woman having makeup makeup makeup by a artist)\n",
      "Hyp(log_p = -16.579758,\t seq = xxunk a book in front of a mirror showing a woman having makeup makeup makeup by a visual)\n",
      "Hyp(log_p = -16.756311,\t seq = xxunk a book in front of a mirror showing a woman having makeup makeup done by a facial)\n",
      "Hyp(log_p = -16.831150,\t seq = xxunk a book in front of a mirror showing a woman having makeup makeup makeup by a facial)\n",
      "Hyp(log_p = -16.875343,\t seq = xxunk a book in front of a mirror showing a woman having makeup makeup done by a visual)\n",
      "Hyp(log_p = -17.143002,\t seq = xxunk a book in front of a mirror showing a woman wearing her makeup done by a artist)\n",
      "Hyp(log_p = -17.668369,\t seq = xxunk a book in front of a mirror showing a woman having makeup makeup done by a printmaking)\n",
      "Hyp(log_p = -17.917702,\t seq = xxunk a book in front of a mirror showing a woman wearing her makeup done by a white)\n",
      "Hyp(log_p = -18.604576,\t seq = xxunk a book in front of a mirror showing a woman wearing her makeup done by a visual)\n",
      "Hyp(log_p = -18.730410,\t seq = xxunk a book in front of a mirror showing a woman wearing her makeup done by a printmaking)\n",
      "After narrowing:\n",
      "Hyp(log_p = -0.718336,\t seq = xxunk a book in front of a mirror showing a woman having her makeup done by a makeup)\n",
      "Hyp(log_p = -0.773691,\t seq = xxunk a book in front of a mirror showing a woman having her makeup makeup by a makeup)\n",
      "Hyp(log_p = -3.848587,\t seq = xxunk a book in front of a mirror showing a woman having makeup makeup done by a makeup)\n",
      "Hyp(log_p = -5.212827,\t seq = xxunk a book in front of a mirror showing a woman wearing her makeup done by a makeup)\n",
      "Hyp(log_p = -5.953497,\t seq = xxunk a book in front of a mirror showing a woman having makeup makeup makeup by a makeup)\n",
      "Results:\n",
      "\n",
      " Step:  17\n",
      "Before narrowing:\n",
      "Hyp(log_p = -0.943512,\t seq = xxunk a book in front of a mirror showing a woman having her makeup makeup by a makeup artist)\n",
      "Hyp(log_p = -0.991220,\t seq = xxunk a book in front of a mirror showing a woman having her makeup done by a makeup artist)\n",
      "Hyp(log_p = -2.153662,\t seq = xxunk a book in front of a mirror showing a woman having her makeup done by a makeup makeup)\n",
      "Hyp(log_p = -2.636124,\t seq = xxunk a book in front of a mirror showing a woman having her makeup makeup by a makeup makeup)\n",
      "Hyp(log_p = -4.015284,\t seq = xxunk a book in front of a mirror showing a woman having makeup makeup done by a makeup artist)\n",
      "Hyp(log_p = -5.640210,\t seq = xxunk a book in front of a mirror showing a woman wearing her makeup done by a makeup artist)\n",
      "Hyp(log_p = -5.729376,\t seq = xxunk a book in front of a mirror showing a woman having makeup makeup done by a makeup makeup)\n",
      "Hyp(log_p = -6.031401,\t seq = xxunk a book in front of a mirror showing a woman having makeup makeup makeup by a makeup artist)\n",
      "Hyp(log_p = -6.270890,\t seq = xxunk a book in front of a mirror showing a woman wearing her makeup done by a makeup makeup)\n",
      "Hyp(log_p = -8.559389,\t seq = xxunk a book in front of a mirror showing a woman having makeup makeup makeup by a makeup makeup)\n",
      "Hyp(log_p = -8.693557,\t seq = xxunk a book in front of a mirror showing a woman having her makeup done by a makeup character)\n",
      "Hyp(log_p = -9.009377,\t seq = xxunk a book in front of a mirror showing a woman having her makeup makeup by a makeup character)\n",
      "Hyp(log_p = -9.992489,\t seq = xxunk a book in front of a mirror showing a woman having her makeup makeup by a makeup background)\n",
      "Hyp(log_p = -10.288939,\t seq = xxunk a book in front of a mirror showing a woman having her makeup makeup by a makeup landscape)\n",
      "Hyp(log_p = -10.315766,\t seq = xxunk a book in front of a mirror showing a woman having her makeup done by a makeup designer)\n",
      "Hyp(log_p = -10.739577,\t seq = xxunk a book in front of a mirror showing a woman having her makeup done by a makeup girl)\n",
      "Hyp(log_p = -11.456695,\t seq = xxunk a book in front of a mirror showing a woman having makeup makeup done by a makeup character)\n",
      "Hyp(log_p = -12.916475,\t seq = xxunk a book in front of a mirror showing a woman having makeup makeup done by a makeup girl)\n",
      "Hyp(log_p = -13.354044,\t seq = xxunk a book in front of a mirror showing a woman wearing her makeup done by a makeup character)\n",
      "Hyp(log_p = -13.357740,\t seq = xxunk a book in front of a mirror showing a woman having makeup makeup done by a makeup background)\n",
      "Hyp(log_p = -13.905453,\t seq = xxunk a book in front of a mirror showing a woman having makeup makeup makeup by a makeup character)\n",
      "Hyp(log_p = -14.932190,\t seq = xxunk a book in front of a mirror showing a woman having makeup makeup makeup by a makeup background)\n",
      "Hyp(log_p = -14.935376,\t seq = xxunk a book in front of a mirror showing a woman having makeup makeup makeup by a makeup done)\n",
      "Hyp(log_p = -15.335492,\t seq = xxunk a book in front of a mirror showing a woman wearing her makeup done by a makeup designer)\n",
      "Hyp(log_p = -15.389257,\t seq = xxunk a book in front of a mirror showing a woman wearing her makeup done by a makeup hair)\n",
      "After narrowing:\n",
      "Hyp(log_p = -0.943512,\t seq = xxunk a book in front of a mirror showing a woman having her makeup makeup by a makeup artist)\n",
      "Hyp(log_p = -0.991220,\t seq = xxunk a book in front of a mirror showing a woman having her makeup done by a makeup artist)\n",
      "Hyp(log_p = -2.153662,\t seq = xxunk a book in front of a mirror showing a woman having her makeup done by a makeup makeup)\n",
      "Hyp(log_p = -2.636124,\t seq = xxunk a book in front of a mirror showing a woman having her makeup makeup by a makeup makeup)\n",
      "Hyp(log_p = -4.015284,\t seq = xxunk a book in front of a mirror showing a woman having makeup makeup done by a makeup artist)\n",
      "Results:\n",
      "\n",
      " Step:  18\n",
      "Before narrowing:\n",
      "Hyp(log_p = -0.943514,\t seq = xxunk a book in front of a mirror showing a woman having her makeup makeup by a makeup artist xxpad)\n",
      "Hyp(log_p = -0.991226,\t seq = xxunk a book in front of a mirror showing a woman having her makeup done by a makeup artist xxpad)\n",
      "Hyp(log_p = -2.153671,\t seq = xxunk a book in front of a mirror showing a woman having her makeup done by a makeup makeup xxpad)\n",
      "Hyp(log_p = -2.636129,\t seq = xxunk a book in front of a mirror showing a woman having her makeup makeup by a makeup makeup xxpad)\n",
      "Hyp(log_p = -4.015287,\t seq = xxunk a book in front of a mirror showing a woman having makeup makeup done by a makeup artist xxpad)\n",
      "Hyp(log_p = -13.618081,\t seq = xxunk a book in front of a mirror showing a woman having her makeup done by a makeup artist .)\n",
      "Hyp(log_p = -14.300480,\t seq = xxunk a book in front of a mirror showing a woman having her makeup done by a makeup makeup artist)\n",
      "Hyp(log_p = -14.305606,\t seq = xxunk a book in front of a mirror showing a woman having her makeup makeup by a makeup artist .)\n",
      "Hyp(log_p = -14.563676,\t seq = xxunk a book in front of a mirror showing a woman having her makeup done by a makeup makeup .)\n",
      "Hyp(log_p = -14.912340,\t seq = xxunk a book in front of a mirror showing a woman having her makeup done by a makeup artist of)\n",
      "Hyp(log_p = -15.214421,\t seq = xxunk a book in front of a mirror showing a woman having her makeup makeup by a makeup makeup artist)\n",
      "Hyp(log_p = -15.367025,\t seq = xxunk a book in front of a mirror showing a woman having her makeup done by a makeup artist artist)\n",
      "Hyp(log_p = -15.540731,\t seq = xxunk a book in front of a mirror showing a woman having her makeup makeup by a makeup artist artist)\n",
      "Hyp(log_p = -15.748644,\t seq = xxunk a book in front of a mirror showing a woman having her makeup makeup by a makeup makeup .)\n",
      "Hyp(log_p = -16.120913,\t seq = xxunk a book in front of a mirror showing a woman having her makeup makeup by a makeup artist of)\n",
      "Hyp(log_p = -16.336216,\t seq = xxunk a book in front of a mirror showing a woman having her makeup done by a makeup makeup of)\n",
      "Hyp(log_p = -16.349449,\t seq = xxunk a book in front of a mirror showing a woman having her makeup done by a makeup artist by)\n",
      "Hyp(log_p = -16.487354,\t seq = xxunk a book in front of a mirror showing a woman having her makeup makeup by a makeup artist by)\n",
      "Hyp(log_p = -17.036312,\t seq = xxunk a book in front of a mirror showing a woman having makeup makeup done by a makeup artist .)\n",
      "Hyp(log_p = -17.852112,\t seq = xxunk a book in front of a mirror showing a woman having her makeup done by a makeup makeup by)\n",
      "Hyp(log_p = -18.083187,\t seq = xxunk a book in front of a mirror showing a woman having her makeup makeup by a makeup makeup of)\n",
      "Hyp(log_p = -18.546564,\t seq = xxunk a book in front of a mirror showing a woman having her makeup makeup by a makeup makeup by)\n",
      "Hyp(log_p = -18.604174,\t seq = xxunk a book in front of a mirror showing a woman having makeup makeup done by a makeup artist of)\n",
      "Hyp(log_p = -18.621246,\t seq = xxunk a book in front of a mirror showing a woman having makeup makeup done by a makeup artist artist)\n",
      "Hyp(log_p = -20.489935,\t seq = xxunk a book in front of a mirror showing a woman having makeup makeup done by a makeup artist makeup)\n",
      "After narrowing:\n",
      "Results:\n",
      "Hyp(log_p = -0.943514,\t seq = xxunk a book in front of a mirror showing a woman having her makeup makeup by a makeup artist xxpad)\n",
      "Hyp(log_p = -0.991226,\t seq = xxunk a book in front of a mirror showing a woman having her makeup done by a makeup artist xxpad)\n",
      "Hyp(log_p = -2.153671,\t seq = xxunk a book in front of a mirror showing a woman having her makeup done by a makeup makeup xxpad)\n",
      "Hyp(log_p = -2.636129,\t seq = xxunk a book in front of a mirror showing a woman having her makeup makeup by a makeup makeup xxpad)\n",
      "Hyp(log_p = -4.015287,\t seq = xxunk a book in front of a mirror showing a woman having makeup makeup done by a makeup artist xxpad)\n",
      "Final:\n",
      "Hyp(log_p = -0.943514,\t seq = xxunk a book in front of a mirror showing a woman having her makeup makeup by a makeup artist xxpad)\n",
      "Hyp(log_p = -0.991226,\t seq = xxunk a book in front of a mirror showing a woman having her makeup done by a makeup artist xxpad)\n",
      "Hyp(log_p = -2.153671,\t seq = xxunk a book in front of a mirror showing a woman having her makeup done by a makeup makeup xxpad)\n",
      "Hyp(log_p = -2.636129,\t seq = xxunk a book in front of a mirror showing a woman having her makeup makeup by a makeup makeup xxpad)\n",
      "Hyp(log_p = -4.015287,\t seq = xxunk a book in front of a mirror showing a woman having makeup makeup done by a makeup artist xxpad)\n",
      "\n",
      "label\t a book in front of a mirror showing a woman having her makeup done by a makeup artist xxpad\n",
      "greedy\t a book in front of a mirror showing a woman having her makeup done by a makeup artist xxpad\n",
      "beam\t a book in front of a mirror showing a woman having her makeup makeup by a makeup artist xxpad\n"
     ]
    }
   ],
   "source": [
    "show_random_val_prediction(14955)"
   ]
  },
  {
   "cell_type": "code",
   "execution_count": null,
   "metadata": {},
   "outputs": [],
   "source": []
  }
 ],
 "metadata": {
  "kernelspec": {
   "display_name": "Python [conda env:imgcap]",
   "language": "python",
   "name": "conda-env-imgcap-py"
  },
  "language_info": {
   "codemirror_mode": {
    "name": "ipython",
    "version": 3
   },
   "file_extension": ".py",
   "mimetype": "text/x-python",
   "name": "python",
   "nbconvert_exporter": "python",
   "pygments_lexer": "ipython3",
   "version": "3.6.8"
  }
 },
 "nbformat": 4,
 "nbformat_minor": 2
}
