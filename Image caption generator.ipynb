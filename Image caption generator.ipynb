{
 "cells": [
  {
   "cell_type": "markdown",
   "metadata": {},
   "source": [
    "# Image caption generator"
   ]
  },
  {
   "cell_type": "markdown",
   "metadata": {},
   "source": [
    "## Part 1 - seq2seq auto encoder"
   ]
  },
  {
   "cell_type": "code",
   "execution_count": 1,
   "metadata": {},
   "outputs": [],
   "source": [
    "from fastai.text import *\n",
    "import pandas as pd\n",
    "from pathlib import Path"
   ]
  },
  {
   "cell_type": "code",
   "execution_count": 2,
   "metadata": {},
   "outputs": [],
   "source": [
    "gpu = torch.device('cuda:0')"
   ]
  },
  {
   "cell_type": "code",
   "execution_count": 3,
   "metadata": {},
   "outputs": [],
   "source": [
    "PATH = Path('data/')\n",
    "PATH.mkdir(exist_ok=True)"
   ]
  },
  {
   "cell_type": "code",
   "execution_count": 4,
   "metadata": {},
   "outputs": [],
   "source": [
    "seq_PATH = PATH/'seq2deq_model'\n",
    "seq_PATH.mkdir(exist_ok=True)"
   ]
  },
  {
   "cell_type": "code",
   "execution_count": 5,
   "metadata": {},
   "outputs": [],
   "source": [
    "captions_and_links_valid = pd.read_csv(\"Validation_GCC-1.1.0-Validation.tsv\", sep=\"\\t\",header=None)\n",
    "captions_and_links_train = pd.read_csv(\"Train_GCC-training.tsv\", sep=\"\\t\",header=None)"
   ]
  },
  {
   "cell_type": "code",
   "execution_count": 6,
   "metadata": {},
   "outputs": [
    {
     "data": {
      "text/plain": [
       "(15840, 3318333)"
      ]
     },
     "execution_count": 6,
     "metadata": {},
     "output_type": "execute_result"
    }
   ],
   "source": [
    "len(captions_and_links_valid), len(captions_and_links_train)"
   ]
  },
  {
   "cell_type": "code",
   "execution_count": 6,
   "metadata": {},
   "outputs": [
    {
     "data": {
      "text/html": [
       "<div>\n",
       "<style scoped>\n",
       "    .dataframe tbody tr th:only-of-type {\n",
       "        vertical-align: middle;\n",
       "    }\n",
       "\n",
       "    .dataframe tbody tr th {\n",
       "        vertical-align: top;\n",
       "    }\n",
       "\n",
       "    .dataframe thead th {\n",
       "        text-align: right;\n",
       "    }\n",
       "</style>\n",
       "<table border=\"1\" class=\"dataframe\">\n",
       "  <thead>\n",
       "    <tr style=\"text-align: right;\">\n",
       "      <th></th>\n",
       "      <th>0</th>\n",
       "      <th>1</th>\n",
       "    </tr>\n",
       "  </thead>\n",
       "  <tbody>\n",
       "    <tr>\n",
       "      <th>0</th>\n",
       "      <td>author : a life in photography -- in pictures</td>\n",
       "      <td>https://i.pinimg.com/736x/66/01/6c/66016c3ba27...</td>\n",
       "    </tr>\n",
       "    <tr>\n",
       "      <th>1</th>\n",
       "      <td>an angler fishes river on a snowy day .</td>\n",
       "      <td>http://www.standard.net/image/2015/02/04/800x_...</td>\n",
       "    </tr>\n",
       "    <tr>\n",
       "      <th>2</th>\n",
       "      <td>photograph of the sign being repaired by brave...</td>\n",
       "      <td>http://indianapolis-photos.funcityfinder.com/f...</td>\n",
       "    </tr>\n",
       "    <tr>\n",
       "      <th>3</th>\n",
       "      <td>the player staring intently at a computer scre...</td>\n",
       "      <td>http://www.abc.net.au/news/image/9066492-3x2-7...</td>\n",
       "    </tr>\n",
       "    <tr>\n",
       "      <th>4</th>\n",
       "      <td>globes : the green 3d person carrying in hands...</td>\n",
       "      <td>https://www.featurepics.com/StockImage/2009031...</td>\n",
       "    </tr>\n",
       "  </tbody>\n",
       "</table>\n",
       "</div>"
      ],
      "text/plain": [
       "                                                   0  \\\n",
       "0      author : a life in photography -- in pictures   \n",
       "1            an angler fishes river on a snowy day .   \n",
       "2  photograph of the sign being repaired by brave...   \n",
       "3  the player staring intently at a computer scre...   \n",
       "4  globes : the green 3d person carrying in hands...   \n",
       "\n",
       "                                                   1  \n",
       "0  https://i.pinimg.com/736x/66/01/6c/66016c3ba27...  \n",
       "1  http://www.standard.net/image/2015/02/04/800x_...  \n",
       "2  http://indianapolis-photos.funcityfinder.com/f...  \n",
       "3  http://www.abc.net.au/news/image/9066492-3x2-7...  \n",
       "4  https://www.featurepics.com/StockImage/2009031...  "
      ]
     },
     "execution_count": 6,
     "metadata": {},
     "output_type": "execute_result"
    }
   ],
   "source": [
    "captions_and_links_valid.head()"
   ]
  },
  {
   "cell_type": "code",
   "execution_count": 7,
   "metadata": {},
   "outputs": [],
   "source": [
    "captions_valid = captions_and_links_valid[0].values\n",
    "captions_train = captions_and_links_train[0].values"
   ]
  },
  {
   "cell_type": "code",
   "execution_count": 8,
   "metadata": {},
   "outputs": [
    {
     "data": {
      "text/plain": [
       "(3318333, 15840)"
      ]
     },
     "execution_count": 8,
     "metadata": {},
     "output_type": "execute_result"
    }
   ],
   "source": [
    "len(captions_train), len(captions_valid)"
   ]
  },
  {
   "cell_type": "markdown",
   "metadata": {},
   "source": [
    "### Tokenization"
   ]
  },
  {
   "cell_type": "code",
   "execution_count": 9,
   "metadata": {},
   "outputs": [],
   "source": [
    "tokenizer = Tokenizer()"
   ]
  },
  {
   "cell_type": "code",
   "execution_count": 10,
   "metadata": {},
   "outputs": [],
   "source": [
    "tokens_captions_valid = tokenizer.process_all(captions_valid)"
   ]
  },
  {
   "cell_type": "code",
   "execution_count": 11,
   "metadata": {},
   "outputs": [],
   "source": [
    "tokens_captions_train = tokenizer.process_all(captions_train)"
   ]
  },
  {
   "cell_type": "markdown",
   "metadata": {},
   "source": [
    "**Let's make sure everything went right:**"
   ]
  },
  {
   "cell_type": "code",
   "execution_count": 12,
   "metadata": {},
   "outputs": [
    {
     "name": "stdout",
     "output_type": "stream",
     "text": [
      "people click into their skis . people click into their skis .\n"
     ]
    }
   ],
   "source": [
    "print(captions_train[777], ' '.join(tokens_captions_train[777]))"
   ]
  },
  {
   "cell_type": "markdown",
   "metadata": {},
   "source": [
    "### Length of captions\n",
    "#### Average length of captions"
   ]
  },
  {
   "cell_type": "code",
   "execution_count": 13,
   "metadata": {},
   "outputs": [
    {
     "data": {
      "text/plain": [
       "10.415467171717172"
      ]
     },
     "execution_count": 13,
     "metadata": {},
     "output_type": "execute_result"
    }
   ],
   "source": [
    "np.mean([len(c) for c in tokens_captions_valid])"
   ]
  },
  {
   "cell_type": "code",
   "execution_count": 14,
   "metadata": {},
   "outputs": [
    {
     "data": {
      "text/plain": [
       "10.322056888202601"
      ]
     },
     "execution_count": 14,
     "metadata": {},
     "output_type": "execute_result"
    }
   ],
   "source": [
    "np.mean([len(c) for c in tokens_captions_train])"
   ]
  },
  {
   "cell_type": "markdown",
   "metadata": {},
   "source": [
    "#### Discard captions that are too long"
   ]
  },
  {
   "cell_type": "code",
   "execution_count": 15,
   "metadata": {},
   "outputs": [],
   "source": [
    "tokens_captions_valid = np.array(tokens_captions_valid)[np.array([len(c) < 30 for c in tokens_captions_valid])]"
   ]
  },
  {
   "cell_type": "code",
   "execution_count": 16,
   "metadata": {},
   "outputs": [
    {
     "data": {
      "text/plain": [
       "29"
      ]
     },
     "execution_count": 16,
     "metadata": {},
     "output_type": "execute_result"
    }
   ],
   "source": [
    "np.max([len(c) for c in tokens_captions_valid])"
   ]
  },
  {
   "cell_type": "code",
   "execution_count": 17,
   "metadata": {},
   "outputs": [],
   "source": [
    "tokens_captions_train = np.array(tokens_captions_train)[np.array([len(c) < 30 for c in tokens_captions_train])]"
   ]
  },
  {
   "cell_type": "code",
   "execution_count": 18,
   "metadata": {},
   "outputs": [
    {
     "data": {
      "text/plain": [
       "29"
      ]
     },
     "execution_count": 18,
     "metadata": {},
     "output_type": "execute_result"
    }
   ],
   "source": [
    "np.max([len(c) for c in tokens_captions_train])"
   ]
  },
  {
   "cell_type": "code",
   "execution_count": 19,
   "metadata": {},
   "outputs": [],
   "source": [
    "pickle.dump((tokens_captions_valid), (seq_PATH/'tok_cap_v.pkl').open('wb'))"
   ]
  },
  {
   "cell_type": "code",
   "execution_count": 20,
   "metadata": {},
   "outputs": [],
   "source": [
    "pickle.dump((tokens_captions_train), (seq_PATH/'tok_cap_t.pkl').open('wb'))"
   ]
  },
  {
   "cell_type": "code",
   "execution_count": 5,
   "metadata": {},
   "outputs": [],
   "source": [
    "tokens_captions_valid = pickle.load((seq_PATH/'tok_cap_v.pkl').open('rb'))"
   ]
  },
  {
   "cell_type": "code",
   "execution_count": 6,
   "metadata": {},
   "outputs": [],
   "source": [
    "tokens_captions_train = pickle.load((seq_PATH/'tok_cap_t.pkl').open('rb'))"
   ]
  },
  {
   "cell_type": "code",
   "execution_count": 7,
   "metadata": {},
   "outputs": [
    {
     "name": "stdout",
     "output_type": "stream",
     "text": [
      "3302516 15764\n"
     ]
    }
   ],
   "source": [
    "print(len(tokens_captions_train), len(tokens_captions_valid))"
   ]
  },
  {
   "cell_type": "markdown",
   "metadata": {},
   "source": [
    "### Numericalization"
   ]
  },
  {
   "cell_type": "code",
   "execution_count": 8,
   "metadata": {},
   "outputs": [],
   "source": [
    "vocab = Vocab.create(tokens_captions_train, max_vocab=50000, min_freq=2)"
   ]
  },
  {
   "cell_type": "markdown",
   "metadata": {},
   "source": [
    "**Let's quickly test this:**"
   ]
  },
  {
   "cell_type": "code",
   "execution_count": 9,
   "metadata": {},
   "outputs": [],
   "source": [
    "idx = 12575"
   ]
  },
  {
   "cell_type": "code",
   "execution_count": 10,
   "metadata": {},
   "outputs": [
    {
     "name": "stdout",
     "output_type": "stream",
     "text": [
      "actor attending the world premiere of crime fiction film\n"
     ]
    }
   ],
   "source": [
    "test_caption = tokens_captions_valid[idx]\n",
    "print(' '.join(w for w in test_caption))"
   ]
  },
  {
   "cell_type": "code",
   "execution_count": 11,
   "metadata": {},
   "outputs": [
    {
     "name": "stdout",
     "output_type": "stream",
     "text": [
      "[31, 1841, 8, 108, 43, 11, 2274, 1018, 76]\n"
     ]
    }
   ],
   "source": [
    "test_caption_num = vocab.numericalize(test_caption)\n",
    "print(test_caption_num)"
   ]
  },
  {
   "cell_type": "code",
   "execution_count": 12,
   "metadata": {},
   "outputs": [
    {
     "name": "stdout",
     "output_type": "stream",
     "text": [
      "actor attending the world premiere of crime fiction film\n"
     ]
    }
   ],
   "source": [
    "print(vocab.textify(test_caption_num))"
   ]
  },
  {
   "cell_type": "code",
   "execution_count": 13,
   "metadata": {},
   "outputs": [
    {
     "data": {
      "text/plain": [
       "['author', ':', 'a', 'life', 'in', 'photography', '--', 'in', 'pictures']"
      ]
     },
     "execution_count": 13,
     "metadata": {},
     "output_type": "execute_result"
    }
   ],
   "source": [
    "tokens_captions_valid[0]"
   ]
  },
  {
   "cell_type": "code",
   "execution_count": 9,
   "metadata": {},
   "outputs": [],
   "source": [
    "def numericalize_tokens(tok):\n",
    "    return np.array([vocab.numericalize(q) + [1] for q in tok])"
   ]
  },
  {
   "cell_type": "code",
   "execution_count": 10,
   "metadata": {},
   "outputs": [],
   "source": [
    "captions_numericalized_valid = numericalize_tokens(tokens_captions_valid)"
   ]
  },
  {
   "cell_type": "code",
   "execution_count": 11,
   "metadata": {},
   "outputs": [],
   "source": [
    "captions_numericalized_train = numericalize_tokens(tokens_captions_train)"
   ]
  },
  {
   "cell_type": "markdown",
   "metadata": {},
   "source": [
    "Test it:"
   ]
  },
  {
   "cell_type": "code",
   "execution_count": 12,
   "metadata": {},
   "outputs": [
    {
     "data": {
      "text/plain": [
       "'a vector illustration of a motorcycle contrasted against a bicycle . xxpad'"
      ]
     },
     "execution_count": 12,
     "metadata": {},
     "output_type": "execute_result"
    }
   ],
   "source": [
    "vocab.textify(captions_numericalized_train[1256339])"
   ]
  },
  {
   "cell_type": "markdown",
   "metadata": {},
   "source": [
    "### Word vectors"
   ]
  },
  {
   "cell_type": "code",
   "execution_count": 34,
   "metadata": {},
   "outputs": [],
   "source": [
    "#! pip install git+https://github.com/facebookresearch/fastText.git"
   ]
  },
  {
   "cell_type": "code",
   "execution_count": 35,
   "metadata": {},
   "outputs": [],
   "source": [
    "import fastText as ft"
   ]
  },
  {
   "cell_type": "code",
   "execution_count": 36,
   "metadata": {},
   "outputs": [],
   "source": [
    "en_vecs = ft.load_model(str(seq_PATH/'wiki.en.bin'))"
   ]
  },
  {
   "cell_type": "code",
   "execution_count": 37,
   "metadata": {},
   "outputs": [],
   "source": [
    "vec_dict = {w : en_vecs.get_word_vector(w) for w in en_vecs.get_words()}"
   ]
  },
  {
   "cell_type": "code",
   "execution_count": 38,
   "metadata": {},
   "outputs": [],
   "source": [
    "pickle.dump(vec_dict, open(seq_PATH/'vec_dict.pkl', 'wb'))"
   ]
  },
  {
   "cell_type": "code",
   "execution_count": 13,
   "metadata": {},
   "outputs": [],
   "source": [
    "vec_dict = pickle.load(open(seq_PATH/'vec_dict.pkl','rb'))"
   ]
  },
  {
   "cell_type": "markdown",
   "metadata": {},
   "source": [
    "**Let's take a look at the most frequent words from fastText:**"
   ]
  },
  {
   "cell_type": "code",
   "execution_count": 40,
   "metadata": {},
   "outputs": [],
   "source": [
    "ft_words = en_vecs.get_words(include_freq=True)"
   ]
  },
  {
   "cell_type": "code",
   "execution_count": 41,
   "metadata": {},
   "outputs": [],
   "source": [
    "ft_word_dict = {k:v for k,v in zip(*ft_words)}"
   ]
  },
  {
   "cell_type": "code",
   "execution_count": 42,
   "metadata": {},
   "outputs": [],
   "source": [
    "ft_words = sorted(ft_word_dict.keys(), key=lambda x: ft_word_dict[x])"
   ]
  },
  {
   "cell_type": "markdown",
   "metadata": {},
   "source": [
    "10 most frequent words:"
   ]
  },
  {
   "cell_type": "code",
   "execution_count": 43,
   "metadata": {},
   "outputs": [
    {
     "data": {
      "text/plain": [
       "[')', \"'\", 'and', 'in', '-', 'of', '</s>', 'the', '.', ',']"
      ]
     },
     "execution_count": 43,
     "metadata": {},
     "output_type": "execute_result"
    }
   ],
   "source": [
    "ft_words[-10:]"
   ]
  },
  {
   "cell_type": "markdown",
   "metadata": {},
   "source": [
    "**Mean and stdv of the word vectors:**"
   ]
  },
  {
   "cell_type": "code",
   "execution_count": 44,
   "metadata": {},
   "outputs": [],
   "source": [
    "vecs = np.stack(list(vec_dict.values()))"
   ]
  },
  {
   "cell_type": "code",
   "execution_count": 45,
   "metadata": {},
   "outputs": [
    {
     "data": {
      "text/plain": [
       "(0.0075652334, 0.29283327)"
      ]
     },
     "execution_count": 45,
     "metadata": {},
     "output_type": "execute_result"
    }
   ],
   "source": [
    "vecs.mean(), vecs.std()"
   ]
  },
  {
   "cell_type": "markdown",
   "metadata": {},
   "source": [
    "### Dataset"
   ]
  },
  {
   "cell_type": "code",
   "execution_count": 14,
   "metadata": {},
   "outputs": [],
   "source": [
    "def A(*a):\n",
    "    \"\"\"convert iterable object into numpy array\"\"\"\n",
    "    return np.array(a[0]) if len(a)==1 else [np.array(o) for o in a]"
   ]
  },
  {
   "cell_type": "code",
   "execution_count": 15,
   "metadata": {},
   "outputs": [],
   "source": [
    "class Caption2CaptionDataset(Dataset):\n",
    "    def __init__(self, x):\n",
    "        self.x = x\n",
    "    def __getitem__(self, idx):\n",
    "        return A(self.x[idx], self.x[idx])\n",
    "    def __len__(self):\n",
    "        return len(self.x)"
   ]
  },
  {
   "cell_type": "code",
   "execution_count": 16,
   "metadata": {},
   "outputs": [],
   "source": [
    "trn_ds = Caption2CaptionDataset(captions_numericalized_train)"
   ]
  },
  {
   "cell_type": "code",
   "execution_count": 17,
   "metadata": {},
   "outputs": [],
   "source": [
    "val_ds = Caption2CaptionDataset(captions_numericalized_valid)"
   ]
  },
  {
   "cell_type": "code",
   "execution_count": 18,
   "metadata": {},
   "outputs": [
    {
     "data": {
      "text/plain": [
       "(3302516, 15764)"
      ]
     },
     "execution_count": 18,
     "metadata": {},
     "output_type": "execute_result"
    }
   ],
   "source": [
    "len(trn_ds), len(val_ds)"
   ]
  },
  {
   "cell_type": "code",
   "execution_count": 19,
   "metadata": {},
   "outputs": [
    {
     "data": {
      "text/plain": [
       "'a very typical bus station xxpad'"
      ]
     },
     "execution_count": 19,
     "metadata": {},
     "output_type": "execute_result"
    }
   ],
   "source": [
    "vocab.textify(trn_ds[0][0])"
   ]
  },
  {
   "cell_type": "markdown",
   "metadata": {},
   "source": [
    "### Dataloader"
   ]
  },
  {
   "cell_type": "code",
   "execution_count": 20,
   "metadata": {},
   "outputs": [],
   "source": [
    "bs = 125"
   ]
  },
  {
   "cell_type": "code",
   "execution_count": 21,
   "metadata": {},
   "outputs": [],
   "source": [
    "val_sampler = SortSampler(captions_numericalized_valid, key=lambda x:len(captions_numericalized_valid[x]))"
   ]
  },
  {
   "cell_type": "code",
   "execution_count": 22,
   "metadata": {},
   "outputs": [],
   "source": [
    "trn_sampler = SortishSampler(captions_numericalized_train, key=lambda x: len(captions_numericalized_train[x]), bs=bs)"
   ]
  },
  {
   "cell_type": "markdown",
   "metadata": {},
   "source": [
    "Since we want to fully utilize the GPUs capabilities, we train in batches. The length of a minibatch tensor is set by the sequence length of the longest question in that batch. The other questions are padded. To save time and memory, we want to avoid very long and very short questions in one batch because that would mean lot's of padding. For the validation set we simply sort the questions. For training we use the `SortishSampler` which groups *longer* questions together and *shorter* questions together while preserving some randomness.\n",
    "\n",
    "For language models it's better to pad before the start of the sequence because we need the final hidden state to predict the next token or for classification...\n",
    "\n",
    "For sequence to sequence models it is better to pad after the end of the sequence.\n",
    "\n",
    "The samplers return an index:"
   ]
  },
  {
   "cell_type": "code",
   "execution_count": 23,
   "metadata": {},
   "outputs": [],
   "source": [
    "i = next(iter(trn_sampler))"
   ]
  },
  {
   "cell_type": "code",
   "execution_count": 23,
   "metadata": {},
   "outputs": [
    {
     "data": {
      "text/plain": [
       "'continuous functions continuous functions : a function that can be graphed with a line or a smooth curve and has a domain with an infinite number of elements . xxpad'"
      ]
     },
     "execution_count": 23,
     "metadata": {},
     "output_type": "execute_result"
    }
   ],
   "source": [
    "vocab.textify(captions_numericalized_train[i])"
   ]
  },
  {
   "cell_type": "code",
   "execution_count": 20,
   "metadata": {},
   "outputs": [],
   "source": [
    "import pdb"
   ]
  },
  {
   "cell_type": "code",
   "execution_count": 23,
   "metadata": {},
   "outputs": [],
   "source": [
    "def pad_collate_seq2seq(samples:BatchSamples, pad_idx:int=1, pad_first:bool=True, backwards:bool=False, transpose:bool=False) -> Tuple[LongTensor, LongTensor]:\n",
    "    \"Function that collect samples and adds padding. Flips token order if needed\"\n",
    "    samples = to_data(samples)\n",
    "    max_len_inp = max([len(s[0]) for s in samples])\n",
    "    max_len_out = max([len(s[1]) for s in samples])\n",
    "    \n",
    "    res_inp = torch.zeros(len(samples), max_len_inp).long() + pad_idx\n",
    "    res_out = torch.zeros(len(samples), max_len_out).long() + pad_idx\n",
    "    \n",
    "    if backwards: pad_first = not pad_first\n",
    "    for i,s in enumerate(samples):\n",
    "        if pad_first: \n",
    "            res_inp[i,-len(s[0]):] = LongTensor(s[0])\n",
    "            res_out[i,-len(s[1]):] = LongTensor(s[1])\n",
    "        else:         \n",
    "            res_inp[i,:len(s[0]):] = LongTensor(s[0])\n",
    "            res_out[i,:len(s[1]):] = LongTensor(s[1])\n",
    "    if backwards:\n",
    "        res = res.flip(1)\n",
    "    if transpose:\n",
    "        res_inp.transpose_(0,1)\n",
    "        res_out.transpose_(0,1)\n",
    "    return res_inp, res_out"
   ]
  },
  {
   "cell_type": "code",
   "execution_count": 24,
   "metadata": {},
   "outputs": [],
   "source": [
    "my_pad_collate_func = partial(pad_collate_seq2seq, pad_first=False, transpose=True)"
   ]
  },
  {
   "cell_type": "code",
   "execution_count": 25,
   "metadata": {},
   "outputs": [],
   "source": [
    "trn_dl = DataLoader(dataset=trn_ds, batch_size=bs, sampler=trn_sampler, collate_fn=my_pad_collate_func)"
   ]
  },
  {
   "cell_type": "code",
   "execution_count": 26,
   "metadata": {},
   "outputs": [],
   "source": [
    "val_dl = DataLoader(dataset=val_ds, batch_size=bs, sampler=val_sampler, collate_fn=my_pad_collate_func)"
   ]
  },
  {
   "cell_type": "markdown",
   "metadata": {},
   "source": [
    "Let's test the dataloader:"
   ]
  },
  {
   "cell_type": "code",
   "execution_count": 27,
   "metadata": {},
   "outputs": [],
   "source": [
    "it = iter(val_dl)"
   ]
  },
  {
   "cell_type": "code",
   "execution_count": 28,
   "metadata": {},
   "outputs": [],
   "source": [
    "its = [next(it) for _ in range(3)]"
   ]
  },
  {
   "cell_type": "code",
   "execution_count": 29,
   "metadata": {},
   "outputs": [
    {
     "data": {
      "text/plain": [
       "[(torch.Size([30, 125]), torch.Size([30, 125])),\n",
       " (torch.Size([27, 125]), torch.Size([27, 125])),\n",
       " (torch.Size([24, 125]), torch.Size([24, 125]))]"
      ]
     },
     "execution_count": 29,
     "metadata": {},
     "output_type": "execute_result"
    }
   ],
   "source": [
    "[(x.shape, y.shape) for x, y in its]"
   ]
  },
  {
   "cell_type": "code",
   "execution_count": 38,
   "metadata": {},
   "outputs": [
    {
     "name": "stdout",
     "output_type": "stream",
     "text": [
      "this is an old photo of my figure i had and i slightly edited it and now he looks like he 's from a dramatic anime xxpad xxpad xxpad xxpad\n",
      "this is an old photo of my figure i had and i slightly edited it and now he looks like he 's from a dramatic anime xxpad xxpad xxpad xxpad\n",
      "\n",
      "i have no idea how that american flag got in this picture of the construction , but i love that it is there ! xxpad xxpad xxpad\n",
      "i have no idea how that american flag got in this picture of the construction , but i love that it is there ! xxpad xxpad xxpad\n",
      "\n",
      "detail shot : the hands of a woman driving a car by the countryside , seen from the front passenger 's seat xxpad xxpad\n",
      "detail shot : the hands of a woman driving a car by the countryside , seen from the front passenger 's seat xxpad xxpad\n",
      "\n"
     ]
    }
   ],
   "source": [
    "for x, y in its:\n",
    "    print(vocab.textify(x[:,100]))\n",
    "    print(vocab.textify(y[:,100]))\n",
    "    print()"
   ]
  },
  {
   "cell_type": "markdown",
   "metadata": {},
   "source": [
    "### Model"
   ]
  },
  {
   "cell_type": "code",
   "execution_count": 30,
   "metadata": {},
   "outputs": [],
   "source": [
    "n_hid, n_layers = 400, 3"
   ]
  },
  {
   "cell_type": "code",
   "execution_count": 31,
   "metadata": {},
   "outputs": [],
   "source": [
    "def create_emb(wordvecs, itos, emb_sz):\n",
    "    emb= nn.Embedding(len(itos), emb_sz, padding_idx=1)\n",
    "    weights = emb.weight.data\n",
    "    not_found = []\n",
    "    \n",
    "    for idx, word in enumerate(itos):\n",
    "        try:\n",
    "            weights[idx] = torch.from_numpy(wordvecs[word] * 3)\n",
    "        except:\n",
    "            not_found.append(word)\n",
    "    print(len(not_found), not_found[5:10])\n",
    "    return emb"
   ]
  },
  {
   "cell_type": "code",
   "execution_count": 32,
   "metadata": {},
   "outputs": [],
   "source": [
    "class seq2seqAutoEncoder(nn.Module):\n",
    "    def __init__(self, device, wordvecs, itos, emb_sz, n_hid, out_seqlen, n_layers=2):\n",
    "        super().__init__()\n",
    "        self.n_hid, self.n_layers, self.out_seqlen = n_hid, n_layers, out_seqlen\n",
    "        self.device = device\n",
    "        \n",
    "        # Encoder\n",
    "        self.emb = create_emb(wordvecs, itos, emb_sz)\n",
    "        self.emb = self.emb.to(self.device)\n",
    "        self.emb_drop = nn.Dropout(0.15)\n",
    "        self.rnn_enc = nn.GRU(emb_sz, n_hid, num_layers=n_layers, dropout=0.25)\n",
    "        self.output_enc = nn.Linear(n_hid, emb_sz, bias=False)\n",
    "        \n",
    "        # Decoder\n",
    "        self.rnn_dec = nn.GRU(emb_sz, emb_sz, num_layers=n_layers, dropout=0.1)  # square to enable weight tying\n",
    "        self.out_drop = nn.Dropout(0.35)\n",
    "        self.out = nn.Linear(emb_sz, len(itos))\n",
    "        self.out.weight.data = self.emb.weight.data\n",
    "        \n",
    "    def forward(self, inp):\n",
    "        # pdb.set_trace()\n",
    "        _, h = self.encode(inp)\n",
    "        \n",
    "        dec_inp = torch.zeros(inp.size(1), requires_grad=False).long()\n",
    "        dec_inp = dec_inp.to(self.device)\n",
    "        res = []\n",
    "        \n",
    "        for i in range(self.out_seqlen):\n",
    "            dec_output, h = self.decode(dec_inp, h)\n",
    "            res.append(dec_output)\n",
    "            dec_inp = dec_output.data.max(1)[1]  # [1] to get argmax\n",
    "            if (dec_inp == 1).all():\n",
    "                break\n",
    "        \n",
    "        return torch.stack(res)\n",
    "    \n",
    "    def encode(self, inp):\n",
    "        h = self.initHidden(inp.size(1))  # bs\n",
    "        h = h.to(self.device)\n",
    "        emb = self.emb_drop(self.emb(inp))\n",
    "        enc_output, h = self.rnn_enc(emb, h) # h[1] is same as enc_outp[-1]!\n",
    "        \n",
    "        h = self.output_enc(h)\n",
    "        \n",
    "        return enc_output, h\n",
    "    \n",
    "    def decode(self, dec_inp, h):\n",
    "        emb_inp = self.emb(dec_inp).unsqueeze(0)  # adds unit axis at beginning so that rnn 'loops' once\n",
    "        output, h = self.rnn_dec(emb_inp, h)\n",
    "        output = self.out(self.out_drop(output[0]))\n",
    "\n",
    "        return F.log_softmax(output, dim=1), h\n",
    "    \n",
    "    def initHidden(self, bs):\n",
    "        return torch.zeros(self.n_layers, bs, self.n_hid, requires_grad=False)"
   ]
  },
  {
   "cell_type": "code",
   "execution_count": 33,
   "metadata": {},
   "outputs": [],
   "source": [
    "def Seq2SeqLoss(pred, target):\n",
    "    seqlen, bs = target.size()\n",
    "    seqlen_pred, bs_pred, n_probs = pred.size()\n",
    "    \n",
    "    # we need to pad if target seqlen is larger than prediction seqlen\n",
    "    if seqlen > seqlen_pred:\n",
    "        pred = F.pad(pred, (0,0,0,0,0,seqlen-seqlen_pred))\n",
    "    \n",
    "    # but we only compare until the seqlen of the target\n",
    "    pred = pred[:seqlen]\n",
    "    \n",
    "    # cross_entropy can't handle rank 3 tensors currently, we need to flatten\n",
    "    return F.nll_loss(pred.contiguous().view(-1, n_probs), target.contiguous().view(-1))"
   ]
  },
  {
   "cell_type": "code",
   "execution_count": 34,
   "metadata": {},
   "outputs": [
    {
     "data": {
      "text/plain": [
       "300"
      ]
     },
     "execution_count": 34,
     "metadata": {},
     "output_type": "execute_result"
    }
   ],
   "source": [
    "emb_sz = vec_dict[\"cat\"].size\n",
    "emb_sz"
   ]
  },
  {
   "cell_type": "code",
   "execution_count": 35,
   "metadata": {},
   "outputs": [
    {
     "name": "stdout",
     "output_type": "stream",
     "text": [
      "3689 ['xxup', 'xxrep', 'xxwrep', ':', \"'s\"]\n"
     ]
    }
   ],
   "source": [
    "rnn = seq2seqAutoEncoder(gpu, vec_dict, vocab.itos, emb_sz, n_hid, 30, n_layers)\n",
    "rnn = rnn.to(gpu)"
   ]
  },
  {
   "cell_type": "code",
   "execution_count": 36,
   "metadata": {},
   "outputs": [],
   "source": [
    "opt_fn = partial(optim.Adam, betas=(0.8, 0.99))  # like bind in c++"
   ]
  },
  {
   "cell_type": "code",
   "execution_count": 37,
   "metadata": {},
   "outputs": [],
   "source": [
    "dataBunch = DataBunch(train_dl=trn_dl, valid_dl=val_dl, device=gpu, path=seq_PATH, collate_fn=my_pad_collate_func)"
   ]
  },
  {
   "cell_type": "code",
   "execution_count": 38,
   "metadata": {},
   "outputs": [],
   "source": [
    "learn = Learner(data=dataBunch, model=to_device(rnn, gpu), opt_func=opt_fn, loss_func=Seq2SeqLoss, callback_fns=ShowGraph)"
   ]
  },
  {
   "cell_type": "code",
   "execution_count": 52,
   "metadata": {},
   "outputs": [
    {
     "data": {
      "text/html": [],
      "text/plain": [
       "<IPython.core.display.HTML object>"
      ]
     },
     "metadata": {},
     "output_type": "display_data"
    },
    {
     "name": "stdout",
     "output_type": "stream",
     "text": [
      "LR Finder is complete, type {learner_name}.recorder.plot() to see the graph.\n"
     ]
    }
   ],
   "source": [
    "learn.lr_find()"
   ]
  },
  {
   "cell_type": "code",
   "execution_count": 53,
   "metadata": {},
   "outputs": [
    {
     "data": {
      "image/png": "[encoded data removed]",
      "text/plain": [
       "<Figure size 432x288 with 1 Axes>"
      ]
     },
     "metadata": {
      "needs_background": "light"
     },
     "output_type": "display_data"
    }
   ],
   "source": [
    "learn.recorder.plot(skip_end=18)"
   ]
  },
  {
   "cell_type": "code",
   "execution_count": 38,
   "metadata": {},
   "outputs": [],
   "source": [
    "lr = 1e-3"
   ]
  },
  {
   "cell_type": "code",
   "execution_count": null,
   "metadata": {},
   "outputs": [],
   "source": [
    "learn.fit_one_cycle(1, lr)"
   ]
  },
  {
   "cell_type": "code",
   "execution_count": 421,
   "metadata": {},
   "outputs": [
    {
     "data": {
      "image/png": "[encoded data removed]",
      "text/plain": [
       "<Figure size 864x288 with 2 Axes>"
      ]
     },
     "metadata": {
      "needs_background": "light"
     },
     "output_type": "display_data"
    }
   ],
   "source": [
    "learn.recorder.plot_lr(show_moms=True)"
   ]
  },
  {
   "cell_type": "code",
   "execution_count": 422,
   "metadata": {},
   "outputs": [],
   "source": [
    "#learn.save(\"GRU_try1\")"
   ]
  },
  {
   "cell_type": "code",
   "execution_count": 39,
   "metadata": {},
   "outputs": [
    {
     "name": "stderr",
     "output_type": "stream",
     "text": [
      "/home/fabiograetz/anaconda3/envs/imgcap/lib/python3.6/site-packages/torch/serialization.py:251: UserWarning: Couldn't retrieve source code for container of type seq2seqAutoEncoder. It won't be checked for correctness upon loading.\n",
      "  \"type \" + obj.__name__ + \". It won't be checked \"\n"
     ]
    },
    {
     "data": {
      "text/plain": [
       "Learner(data=DataBunch;\n",
       "\n",
       "Train: <__main__.Caption2CaptionDataset object at 0x7ff886293048>;\n",
       "\n",
       "Valid: <__main__.Caption2CaptionDataset object at 0x7ff7d6b460f0>;\n",
       "\n",
       "Test: None, model=seq2seqAutoEncoder(\n",
       "  (emb): Embedding(33465, 300, padding_idx=1)\n",
       "  (emb_drop): Dropout(p=0.15)\n",
       "  (rnn_enc): GRU(300, 400, num_layers=3, dropout=0.25)\n",
       "  (output_enc): Linear(in_features=400, out_features=300, bias=False)\n",
       "  (rnn_dec): GRU(300, 300, num_layers=3, dropout=0.1)\n",
       "  (out_drop): Dropout(p=0.35)\n",
       "  (out): Linear(in_features=300, out_features=33465, bias=True)\n",
       "), opt_func=functools.partial(<class 'torch.optim.adam.Adam'>, betas=(0.8, 0.99)), loss_func=<function Seq2SeqLoss at 0x7ff7acc52730>, metrics=[], true_wd=True, bn_wd=True, wd=0.01, train_bn=True, path=PosixPath('data/seq2deq_model'), model_dir='models', callback_fns=[functools.partial(<class 'fastai.basic_train.Recorder'>, add_time=True), <class 'fastai.train.ShowGraph'>], callbacks=[], layer_groups=[Sequential(\n",
       "  (0): Embedding(33465, 300, padding_idx=1)\n",
       "  (1): Dropout(p=0.15)\n",
       "  (2): GRU(300, 400, num_layers=3, dropout=0.25)\n",
       "  (3): Linear(in_features=400, out_features=300, bias=False)\n",
       "  (4): GRU(300, 300, num_layers=3, dropout=0.1)\n",
       "  (5): Dropout(p=0.35)\n",
       "  (6): Linear(in_features=300, out_features=33465, bias=True)\n",
       ")], add_time=True)"
      ]
     },
     "execution_count": 39,
     "metadata": {},
     "output_type": "execute_result"
    }
   ],
   "source": [
    "learn.load(\"GRU_try1\")"
   ]
  },
  {
   "cell_type": "markdown",
   "metadata": {},
   "source": [
    "### Let's try the model"
   ]
  },
  {
   "cell_type": "code",
   "execution_count": 45,
   "metadata": {},
   "outputs": [
    {
     "data": {
      "text/plain": [
       "seq2seqAutoEncoder(\n",
       "  (emb): Embedding(33465, 300, padding_idx=1)\n",
       "  (emb_drop): Dropout(p=0.15)\n",
       "  (rnn_enc): GRU(300, 400, num_layers=3, dropout=0.25)\n",
       "  (output_enc): Linear(in_features=400, out_features=300, bias=False)\n",
       "  (rnn_dec): GRU(300, 300, num_layers=3, dropout=0.1)\n",
       "  (out_drop): Dropout(p=0.35)\n",
       "  (out): Linear(in_features=300, out_features=33465, bias=True)\n",
       ")"
      ]
     },
     "execution_count": 45,
     "metadata": {},
     "output_type": "execute_result"
    }
   ],
   "source": [
    "learn.model.train()"
   ]
  },
  {
   "cell_type": "code",
   "execution_count": 41,
   "metadata": {},
   "outputs": [
    {
     "data": {
      "text/plain": [
       "seq2seqAutoEncoder(\n",
       "  (emb): Embedding(33465, 300, padding_idx=1)\n",
       "  (emb_drop): Dropout(p=0.15)\n",
       "  (rnn_enc): GRU(300, 400, num_layers=3, dropout=0.25)\n",
       "  (output_enc): Linear(in_features=400, out_features=300, bias=False)\n",
       "  (rnn_dec): GRU(300, 300, num_layers=3, dropout=0.1)\n",
       "  (out_drop): Dropout(p=0.35)\n",
       "  (out): Linear(in_features=300, out_features=33465, bias=True)\n",
       ")"
      ]
     },
     "execution_count": 41,
     "metadata": {},
     "output_type": "execute_result"
    }
   ],
   "source": [
    "learn.model.eval()"
   ]
  },
  {
   "cell_type": "markdown",
   "metadata": {},
   "source": [
    "## Beamsearch"
   ]
  },
  {
   "cell_type": "code",
   "execution_count": 76,
   "metadata": {},
   "outputs": [],
   "source": [
    "class HypothesisNode():\n",
    "    \"\"\" Hypothesis Node class for performing Beam Search \"\"\"\n",
    "    def __init__(self, sequence, log_prob, hidden_state):\n",
    "        \"\"\"HypothesisNode constructur\n",
    "        \n",
    "        Args:\n",
    "          sequence: A sequence of tokens\n",
    "          log_prob: The log of the probability of this sequence\n",
    "          hidden_state: The hidden state of the Decoder RNN after decoding the last token in the sequence\n",
    "        \"\"\"\n",
    "        self._seq = sequence\n",
    "        self._log_prob = log_prob\n",
    "        self._h = hidden_state\n",
    "    \n",
    "    @property\n",
    "    def last_tok(self):\n",
    "        \"\"\"\n",
    "        Returns:\n",
    "          The last token in the sequence\n",
    "        \"\"\"\n",
    "        return self._seq[-1]\n",
    "        \n",
    "    def update(self, tok, log_prob, new_h):\n",
    "        \"\"\"\n",
    "        Updates the sequence with a new token and returns a new Hypothesis Node\n",
    "        Args:\n",
    "          tok: The new token that is appended to the sequence\n",
    "          log_prob: The log of the probability ot this token\n",
    "          new_h: The new hidden state of the Decoder RNN after this token\n",
    "        \n",
    "        Returns:\n",
    "          An Hypothesis Node with the updated sequence, log probability and hidden state\n",
    "        \"\"\"\n",
    "        return HypothesisNode(self._seq + [tok], self._log_prob + log_prob, new_h)\n",
    "    \n",
    "    def __str__(self):\n",
    "        return ('HypNode(log_p = %4f,\\t sequence = %s)' % (self._log_prob, vocab.textify([t.item()for t in self._seq])))"
   ]
  },
  {
   "cell_type": "code",
   "execution_count": 77,
   "metadata": {},
   "outputs": [],
   "source": [
    "class BeamSearch():\n",
    "    \"\"\" Performs BeamSearch for seq2seq decoding or Image captioning \"\"\"\n",
    "    def __init__(self, enc_model, dec_model, beam_width, max_len):\n",
    "        \"\"\"BeamSearch object constructor\n",
    "        Args:\n",
    "          enc_model: A seq2seq encoder or cnn for image captioning\n",
    "          dec_model: A RNN decoder model\n",
    "          beam_width: int, the number of hypotheses to remember in each iteration\n",
    "          max_len: int, the longest possible sequence\n",
    "        \"\"\"\n",
    "        self._enc_model = enc_model\n",
    "        self._dec_model = dec_model\n",
    "        self._beam_width = beam_width\n",
    "        self._max_len = max_len\n",
    "        self._start_tok = 0\n",
    "        self._end_tok   = 1\n",
    "        \n",
    "    def search(self, inp_seq, verbose=False):\n",
    "        \"\"\"Performs the Beam search\n",
    "        Args:\n",
    "          inp_seq: the input sequence to be encoded\n",
    "          verbose: bool, allows printing the intermediate hypotheses for better understanding\n",
    "        \n",
    "        Returns:\n",
    "          The 'beam_width' most probable sentences\n",
    "        \"\"\"\n",
    "        inp_seq = torch.tensor(inp_seq).unsqueeze(0).transpose_(0,1).cuda()\n",
    "        _, h = self._enc_model(inp_seq)\n",
    "\n",
    "        hyps = [HypothesisNode([torch.zeros(1, requires_grad=False).long().cuda()], 0, h)]\n",
    "        results = []\n",
    "        \n",
    "        step = 0\n",
    "        while step < self._max_len and len(results) < self._beam_width:\n",
    "            if verbose: print(\"\\n Step: \",step)\n",
    "            new_hyps = []\n",
    "            for h in hyps:\n",
    "                new_hyps.extend(self.get_next_hypotheses(h))\n",
    "            \n",
    "            if verbose: self.print_hypotheses(new_hyps, \"Before narrowing:\")\n",
    "            \n",
    "            hyps = []\n",
    "            while len(new_hyps) > 0:\n",
    "                h = new_hyps.pop(0)\n",
    "                if h.last_tok == self._end_tok and (len(new_hyps) == 0 or h._log_prob >= max([h._log_prob for h in new_hyps])):\n",
    "                    results.append(h)\n",
    "                else:\n",
    "                    hyps.append(h)\n",
    "            \n",
    "            if len(hyps) > self._beam_width:\n",
    "                hyps = sorted(hyps, key=lambda x: x._log_prob, reverse=True)\n",
    "                hyps = hyps[:self._beam_width]\n",
    "            \n",
    "            if verbose: self.print_hypotheses(hyps, \"After narrowing:\")\n",
    "                \n",
    "            step += 1\n",
    "        \n",
    "        results.extend(hyps[:max(0,self._beam_width-len(results))])\n",
    "        results = sorted(results, key=lambda x: x._log_prob/len(x._seq), reverse=True)\n",
    "        \n",
    "        if verbose: self.print_hypotheses(results, \"Results:\")\n",
    "        \n",
    "        return [[t.item() for t in r._seq if t.item() is not 0] for r in results]\n",
    "        \n",
    "    def get_next_hypotheses(self, hyp):\n",
    "        \"\"\"Calculates the next 'beam_width' hypotheses given a Hypothesis Node\n",
    "        Args:\n",
    "          hyp: an Hypothesis Node containing a sequence, a log probability and a Decoder RNN hidden state\n",
    "        Returns:\n",
    "          A list with the 'beam_width' most probable sequences/Hypothesis Nodes\n",
    "        \"\"\"\n",
    "\n",
    "        dec_outp, h = self._dec_model(hyp.last_tok, hyp._h)\n",
    "\n",
    "        top_k_log_probs, top_k_toks = dec_outp.topk(self._beam_width, dim=1)\n",
    "        \n",
    "        return [hyp.update(top_k_toks[0][i].unsqueeze(0), top_k_log_probs[0][i], h) for i in range(self._beam_width)]\n",
    "    \n",
    "    def print_hypotheses(self, hyps, description):\n",
    "        print(description)\n",
    "        for h in hyps:\n",
    "            print(h)"
   ]
  },
  {
   "cell_type": "code",
   "execution_count": 78,
   "metadata": {},
   "outputs": [],
   "source": [
    "BeamSearcher = BeamSearch(learn.model.encode, learn.model.decode, 5, 30)"
   ]
  },
  {
   "cell_type": "code",
   "execution_count": 79,
   "metadata": {},
   "outputs": [],
   "source": [
    "def show_random_val_prediction(idx:int):\n",
    "    print(idx)\n",
    "    data = learn.data.valid_ds[idx][0]\n",
    "    results = BeamSearcher.search(data, True)\n",
    "\n",
    "    print(\"label\\t\",vocab.textify(data))\n",
    "    data = torch.tensor(data).unsqueeze(0).transpose_(0,1).cuda()\n",
    "    res = learn.model((data))\n",
    "    res = res.data.max(2)[1]\n",
    "    res = res.transpose_(0,1).data.cpu().numpy()\n",
    "    print(\"greedy\\t\",vocab.textify(res[0]))\n",
    "\n",
    "    print(\"beam\\t\",vocab.textify(results[0]))"
   ]
  },
  {
   "cell_type": "code",
   "execution_count": 86,
   "metadata": {},
   "outputs": [
    {
     "name": "stdout",
     "output_type": "stream",
     "text": [
      "10773\n",
      "\n",
      " Step:  0\n",
      "Before narrowing:\n",
      "HypNode(log_p = 0.000000,\t sequence = xxunk a)\n",
      "HypNode(log_p = -16.960938,\t sequence = xxunk the)\n",
      "HypNode(log_p = -25.410563,\t sequence = xxunk cloudy)\n",
      "HypNode(log_p = -25.468830,\t sequence = xxunk this)\n",
      "HypNode(log_p = -25.698673,\t sequence = xxunk be)\n",
      "After narrowing:\n",
      "HypNode(log_p = 0.000000,\t sequence = xxunk a)\n",
      "HypNode(log_p = -16.960938,\t sequence = xxunk the)\n",
      "HypNode(log_p = -25.410563,\t sequence = xxunk cloudy)\n",
      "HypNode(log_p = -25.468830,\t sequence = xxunk this)\n",
      "HypNode(log_p = -25.698673,\t sequence = xxunk be)\n",
      "\n",
      " Step:  1\n",
      "Before narrowing:\n",
      "HypNode(log_p = 0.000000,\t sequence = xxunk a cloudy)\n",
      "HypNode(log_p = -21.056122,\t sequence = xxunk a lit)\n",
      "HypNode(log_p = -21.270927,\t sequence = xxunk a clear)\n",
      "HypNode(log_p = -21.363739,\t sequence = xxunk a blurred)\n",
      "HypNode(log_p = -21.475422,\t sequence = xxunk a overcast)\n",
      "HypNode(log_p = -16.960938,\t sequence = xxunk the cloudy)\n",
      "HypNode(log_p = -38.026997,\t sequence = xxunk the lit)\n",
      "HypNode(log_p = -38.210449,\t sequence = xxunk the clear)\n",
      "HypNode(log_p = -38.312794,\t sequence = xxunk the blurred)\n",
      "HypNode(log_p = -38.428967,\t sequence = xxunk the overcast)\n",
      "HypNode(log_p = -25.410563,\t sequence = xxunk cloudy cloudy)\n",
      "HypNode(log_p = -46.367279,\t sequence = xxunk cloudy lit)\n",
      "HypNode(log_p = -46.559719,\t sequence = xxunk cloudy clear)\n",
      "HypNode(log_p = -46.658195,\t sequence = xxunk cloudy blurred)\n",
      "HypNode(log_p = -46.665726,\t sequence = xxunk cloudy overcast)\n",
      "HypNode(log_p = -25.468830,\t sequence = xxunk this cloudy)\n",
      "HypNode(log_p = -46.550350,\t sequence = xxunk this lit)\n",
      "HypNode(log_p = -46.656174,\t sequence = xxunk this clear)\n",
      "HypNode(log_p = -46.806263,\t sequence = xxunk this blurred)\n",
      "HypNode(log_p = -46.960556,\t sequence = xxunk this overcast)\n",
      "HypNode(log_p = -25.698673,\t sequence = xxunk be cloudy)\n",
      "HypNode(log_p = -46.724453,\t sequence = xxunk be lit)\n",
      "HypNode(log_p = -46.896240,\t sequence = xxunk be clear)\n",
      "HypNode(log_p = -47.013020,\t sequence = xxunk be blurred)\n",
      "HypNode(log_p = -47.097427,\t sequence = xxunk be overcast)\n",
      "After narrowing:\n",
      "HypNode(log_p = 0.000000,\t sequence = xxunk a cloudy)\n",
      "HypNode(log_p = -16.960938,\t sequence = xxunk the cloudy)\n",
      "HypNode(log_p = -21.056122,\t sequence = xxunk a lit)\n",
      "HypNode(log_p = -21.270927,\t sequence = xxunk a clear)\n",
      "HypNode(log_p = -21.363739,\t sequence = xxunk a blurred)\n",
      "\n",
      " Step:  2\n",
      "Before narrowing:\n",
      "HypNode(log_p = -0.000004,\t sequence = xxunk a cloudy sky)\n",
      "HypNode(log_p = -12.813025,\t sequence = xxunk a cloudy background)\n",
      "HypNode(log_p = -17.217869,\t sequence = xxunk a cloudy lights)\n",
      "HypNode(log_p = -17.326771,\t sequence = xxunk a cloudy sun)\n",
      "HypNode(log_p = -17.361671,\t sequence = xxunk a cloudy light)\n",
      "HypNode(log_p = -16.960941,\t sequence = xxunk the cloudy sky)\n",
      "HypNode(log_p = -29.790327,\t sequence = xxunk the cloudy background)\n",
      "HypNode(log_p = -34.166092,\t sequence = xxunk the cloudy lights)\n",
      "HypNode(log_p = -34.283371,\t sequence = xxunk the cloudy sun)\n",
      "HypNode(log_p = -34.317230,\t sequence = xxunk the cloudy light)\n",
      "HypNode(log_p = -21.056126,\t sequence = xxunk a lit sky)\n",
      "HypNode(log_p = -33.919853,\t sequence = xxunk a lit background)\n",
      "HypNode(log_p = -38.272903,\t sequence = xxunk a lit lights)\n",
      "HypNode(log_p = -38.364307,\t sequence = xxunk a lit light)\n",
      "HypNode(log_p = -38.426094,\t sequence = xxunk a lit sun)\n",
      "HypNode(log_p = -21.270931,\t sequence = xxunk a clear sky)\n",
      "HypNode(log_p = -34.292206,\t sequence = xxunk a clear background)\n",
      "HypNode(log_p = -38.477234,\t sequence = xxunk a clear lights)\n",
      "HypNode(log_p = -38.662773,\t sequence = xxunk a clear sun)\n",
      "HypNode(log_p = -38.673164,\t sequence = xxunk a clear light)\n",
      "HypNode(log_p = -21.363743,\t sequence = xxunk a blurred sky)\n",
      "HypNode(log_p = -34.249958,\t sequence = xxunk a blurred background)\n",
      "HypNode(log_p = -38.624882,\t sequence = xxunk a blurred lights)\n",
      "HypNode(log_p = -38.713379,\t sequence = xxunk a blurred sun)\n",
      "HypNode(log_p = -38.830727,\t sequence = xxunk a blurred light)\n",
      "After narrowing:\n",
      "HypNode(log_p = -0.000004,\t sequence = xxunk a cloudy sky)\n",
      "HypNode(log_p = -12.813025,\t sequence = xxunk a cloudy background)\n",
      "HypNode(log_p = -16.960941,\t sequence = xxunk the cloudy sky)\n",
      "HypNode(log_p = -17.217869,\t sequence = xxunk a cloudy lights)\n",
      "HypNode(log_p = -17.326771,\t sequence = xxunk a cloudy sun)\n",
      "\n",
      " Step:  3\n",
      "Before narrowing:\n",
      "HypNode(log_p = -0.000004,\t sequence = xxunk a cloudy sky is)\n",
      "HypNode(log_p = -15.986982,\t sequence = xxunk a cloudy sky are)\n",
      "HypNode(log_p = -18.014482,\t sequence = xxunk a cloudy sky ,)\n",
      "HypNode(log_p = -18.294901,\t sequence = xxunk a cloudy sky was)\n",
      "HypNode(log_p = -18.624224,\t sequence = xxunk a cloudy sky has)\n",
      "HypNode(log_p = -12.813025,\t sequence = xxunk a cloudy background is)\n",
      "HypNode(log_p = -28.940245,\t sequence = xxunk a cloudy background are)\n",
      "HypNode(log_p = -30.527142,\t sequence = xxunk a cloudy background ,)\n",
      "HypNode(log_p = -30.713415,\t sequence = xxunk a cloudy background has)\n",
      "HypNode(log_p = -31.523499,\t sequence = xxunk a cloudy background was)\n",
      "HypNode(log_p = -16.960941,\t sequence = xxunk the cloudy sky is)\n",
      "HypNode(log_p = -32.953079,\t sequence = xxunk the cloudy sky are)\n",
      "HypNode(log_p = -34.976448,\t sequence = xxunk the cloudy sky ,)\n",
      "HypNode(log_p = -35.267044,\t sequence = xxunk the cloudy sky was)\n",
      "HypNode(log_p = -35.577065,\t sequence = xxunk the cloudy sky has)\n",
      "HypNode(log_p = -17.217869,\t sequence = xxunk a cloudy lights is)\n",
      "HypNode(log_p = -33.542595,\t sequence = xxunk a cloudy lights are)\n",
      "HypNode(log_p = -35.188400,\t sequence = xxunk a cloudy lights ,)\n",
      "HypNode(log_p = -35.351440,\t sequence = xxunk a cloudy lights was)\n",
      "HypNode(log_p = -36.105984,\t sequence = xxunk a cloudy lights has)\n",
      "HypNode(log_p = -17.326771,\t sequence = xxunk a cloudy sun is)\n",
      "HypNode(log_p = -33.489471,\t sequence = xxunk a cloudy sun are)\n",
      "HypNode(log_p = -35.175377,\t sequence = xxunk a cloudy sun ,)\n",
      "HypNode(log_p = -35.753185,\t sequence = xxunk a cloudy sun was)\n",
      "HypNode(log_p = -35.906773,\t sequence = xxunk a cloudy sun has)\n",
      "After narrowing:\n",
      "HypNode(log_p = -0.000004,\t sequence = xxunk a cloudy sky is)\n",
      "HypNode(log_p = -12.813025,\t sequence = xxunk a cloudy background is)\n",
      "HypNode(log_p = -15.986982,\t sequence = xxunk a cloudy sky are)\n",
      "HypNode(log_p = -16.960941,\t sequence = xxunk the cloudy sky is)\n",
      "HypNode(log_p = -17.217869,\t sequence = xxunk a cloudy lights is)\n",
      "\n",
      " Step:  4\n",
      "Before narrowing:\n",
      "HypNode(log_p = -0.000008,\t sequence = xxunk a cloudy sky is reflected)\n",
      "HypNode(log_p = -13.174536,\t sequence = xxunk a cloudy sky is reflecting)\n",
      "HypNode(log_p = -14.202145,\t sequence = xxunk a cloudy sky is reflects)\n",
      "HypNode(log_p = -16.362583,\t sequence = xxunk a cloudy sky is reflection)\n",
      "HypNode(log_p = -16.571815,\t sequence = xxunk a cloudy sky is still)\n",
      "HypNode(log_p = -12.813028,\t sequence = xxunk a cloudy background is reflected)\n",
      "HypNode(log_p = -25.806759,\t sequence = xxunk a cloudy background is reflecting)\n",
      "HypNode(log_p = -27.113155,\t sequence = xxunk a cloudy background is reflects)\n",
      "HypNode(log_p = -29.051458,\t sequence = xxunk a cloudy background is reflection)\n",
      "HypNode(log_p = -29.539545,\t sequence = xxunk a cloudy background is seen)\n",
      "HypNode(log_p = -15.986986,\t sequence = xxunk a cloudy sky are reflected)\n",
      "HypNode(log_p = -29.280241,\t sequence = xxunk a cloudy sky are reflects)\n",
      "HypNode(log_p = -30.094210,\t sequence = xxunk a cloudy sky are reflecting)\n",
      "HypNode(log_p = -30.699274,\t sequence = xxunk a cloudy sky are reflection)\n",
      "HypNode(log_p = -30.785601,\t sequence = xxunk a cloudy sky are seen)\n",
      "HypNode(log_p = -16.960945,\t sequence = xxunk the cloudy sky is reflected)\n",
      "HypNode(log_p = -30.120869,\t sequence = xxunk the cloudy sky is reflecting)\n",
      "HypNode(log_p = -31.173372,\t sequence = xxunk the cloudy sky is reflects)\n",
      "HypNode(log_p = -33.310894,\t sequence = xxunk the cloudy sky is reflection)\n",
      "HypNode(log_p = -33.584217,\t sequence = xxunk the cloudy sky is still)\n",
      "HypNode(log_p = -17.217873,\t sequence = xxunk a cloudy lights is reflected)\n",
      "HypNode(log_p = -30.357040,\t sequence = xxunk a cloudy lights is reflecting)\n",
      "HypNode(log_p = -31.542688,\t sequence = xxunk a cloudy lights is reflects)\n",
      "HypNode(log_p = -33.557274,\t sequence = xxunk a cloudy lights is reflection)\n",
      "HypNode(log_p = -33.771584,\t sequence = xxunk a cloudy lights is depicted)\n",
      "After narrowing:\n",
      "HypNode(log_p = -0.000008,\t sequence = xxunk a cloudy sky is reflected)\n",
      "HypNode(log_p = -12.813028,\t sequence = xxunk a cloudy background is reflected)\n",
      "HypNode(log_p = -13.174536,\t sequence = xxunk a cloudy sky is reflecting)\n",
      "HypNode(log_p = -14.202145,\t sequence = xxunk a cloudy sky is reflects)\n",
      "HypNode(log_p = -15.986986,\t sequence = xxunk a cloudy sky are reflected)\n",
      "\n",
      " Step:  5\n",
      "Before narrowing:\n",
      "HypNode(log_p = -0.000008,\t sequence = xxunk a cloudy sky is reflected in)\n",
      "HypNode(log_p = -20.859922,\t sequence = xxunk a cloudy sky is reflected on)\n",
      "HypNode(log_p = -21.841787,\t sequence = xxunk a cloudy sky is reflected into)\n",
      "HypNode(log_p = -21.893644,\t sequence = xxunk a cloudy sky is reflected from)\n",
      "HypNode(log_p = -21.915705,\t sequence = xxunk a cloudy sky is reflected the)\n",
      "HypNode(log_p = -12.813028,\t sequence = xxunk a cloudy background is reflected in)\n",
      "HypNode(log_p = -33.784874,\t sequence = xxunk a cloudy background is reflected on)\n",
      "HypNode(log_p = -34.765015,\t sequence = xxunk a cloudy background is reflected into)\n",
      "HypNode(log_p = -34.840351,\t sequence = xxunk a cloudy background is reflected the)\n",
      "HypNode(log_p = -34.967739,\t sequence = xxunk a cloudy background is reflected is)\n",
      "HypNode(log_p = -13.174536,\t sequence = xxunk a cloudy sky is reflecting in)\n",
      "HypNode(log_p = -34.787655,\t sequence = xxunk a cloudy sky is reflecting on)\n",
      "HypNode(log_p = -34.842407,\t sequence = xxunk a cloudy sky is reflecting from)\n",
      "HypNode(log_p = -35.091751,\t sequence = xxunk a cloudy sky is reflecting is)\n",
      "HypNode(log_p = -35.389256,\t sequence = xxunk a cloudy sky is reflecting the)\n",
      "HypNode(log_p = -14.202145,\t sequence = xxunk a cloudy sky is reflects in)\n",
      "HypNode(log_p = -35.627327,\t sequence = xxunk a cloudy sky is reflects on)\n",
      "HypNode(log_p = -37.168167,\t sequence = xxunk a cloudy sky is reflects from)\n",
      "HypNode(log_p = -37.279533,\t sequence = xxunk a cloudy sky is reflects into)\n",
      "HypNode(log_p = -37.574051,\t sequence = xxunk a cloudy sky is reflects to)\n",
      "HypNode(log_p = -15.986986,\t sequence = xxunk a cloudy sky are reflected in)\n",
      "HypNode(log_p = -38.042313,\t sequence = xxunk a cloudy sky are reflected on)\n",
      "HypNode(log_p = -38.620094,\t sequence = xxunk a cloudy sky are reflected into)\n",
      "HypNode(log_p = -38.850815,\t sequence = xxunk a cloudy sky are reflected is)\n",
      "HypNode(log_p = -38.928158,\t sequence = xxunk a cloudy sky are reflected from)\n",
      "After narrowing:\n",
      "HypNode(log_p = -0.000008,\t sequence = xxunk a cloudy sky is reflected in)\n",
      "HypNode(log_p = -12.813028,\t sequence = xxunk a cloudy background is reflected in)\n",
      "HypNode(log_p = -13.174536,\t sequence = xxunk a cloudy sky is reflecting in)\n",
      "HypNode(log_p = -14.202145,\t sequence = xxunk a cloudy sky is reflects in)\n",
      "HypNode(log_p = -15.986986,\t sequence = xxunk a cloudy sky are reflected in)\n",
      "\n",
      " Step:  6\n",
      "Before narrowing:\n",
      "HypNode(log_p = -0.000008,\t sequence = xxunk a cloudy sky is reflected in the)\n",
      "HypNode(log_p = -18.610607,\t sequence = xxunk a cloudy sky is reflected in a)\n",
      "HypNode(log_p = -20.688299,\t sequence = xxunk a cloudy sky is reflected in in)\n",
      "HypNode(log_p = -20.808706,\t sequence = xxunk a cloudy sky is reflected in an)\n",
      "HypNode(log_p = -21.993608,\t sequence = xxunk a cloudy sky is reflected in his)\n",
      "HypNode(log_p = -12.813028,\t sequence = xxunk a cloudy background is reflected in the)\n",
      "HypNode(log_p = -31.540394,\t sequence = xxunk a cloudy background is reflected in a)\n",
      "HypNode(log_p = -33.639442,\t sequence = xxunk a cloudy background is reflected in in)\n",
      "HypNode(log_p = -34.052052,\t sequence = xxunk a cloudy background is reflected in an)\n",
      "HypNode(log_p = -35.015121,\t sequence = xxunk a cloudy background is reflected in his)\n",
      "HypNode(log_p = -13.174536,\t sequence = xxunk a cloudy sky is reflecting in the)\n",
      "HypNode(log_p = -31.495306,\t sequence = xxunk a cloudy sky is reflecting in a)\n",
      "HypNode(log_p = -32.676006,\t sequence = xxunk a cloudy sky is reflecting in in)\n",
      "HypNode(log_p = -34.516914,\t sequence = xxunk a cloudy sky is reflecting in an)\n",
      "HypNode(log_p = -34.921593,\t sequence = xxunk a cloudy sky is reflecting in his)\n",
      "HypNode(log_p = -14.202145,\t sequence = xxunk a cloudy sky is reflects in the)\n",
      "HypNode(log_p = -32.493050,\t sequence = xxunk a cloudy sky is reflects in in)\n",
      "HypNode(log_p = -33.000484,\t sequence = xxunk a cloudy sky is reflects in a)\n",
      "HypNode(log_p = -34.955906,\t sequence = xxunk a cloudy sky is reflects in an)\n",
      "HypNode(log_p = -34.996857,\t sequence = xxunk a cloudy sky is reflects in their)\n",
      "HypNode(log_p = -15.986986,\t sequence = xxunk a cloudy sky are reflected in the)\n",
      "HypNode(log_p = -34.946217,\t sequence = xxunk a cloudy sky are reflected in a)\n",
      "HypNode(log_p = -35.850029,\t sequence = xxunk a cloudy sky are reflected in in)\n",
      "HypNode(log_p = -35.965721,\t sequence = xxunk a cloudy sky are reflected in an)\n",
      "HypNode(log_p = -36.825581,\t sequence = xxunk a cloudy sky are reflected in his)\n",
      "After narrowing:\n",
      "HypNode(log_p = -0.000008,\t sequence = xxunk a cloudy sky is reflected in the)\n",
      "HypNode(log_p = -12.813028,\t sequence = xxunk a cloudy background is reflected in the)\n",
      "HypNode(log_p = -13.174536,\t sequence = xxunk a cloudy sky is reflecting in the)\n",
      "HypNode(log_p = -14.202145,\t sequence = xxunk a cloudy sky is reflects in the)\n",
      "HypNode(log_p = -15.986986,\t sequence = xxunk a cloudy sky are reflected in the)\n",
      "\n",
      " Step:  7\n",
      "Before narrowing:\n",
      "HypNode(log_p = -0.000008,\t sequence = xxunk a cloudy sky is reflected in the water)\n",
      "HypNode(log_p = -22.892086,\t sequence = xxunk a cloudy sky is reflected in the boats)\n",
      "HypNode(log_p = -23.053741,\t sequence = xxunk a cloudy sky is reflected in the surface)\n",
      "HypNode(log_p = -23.782959,\t sequence = xxunk a cloudy sky is reflected in the sea)\n",
      "HypNode(log_p = -23.915012,\t sequence = xxunk a cloudy sky is reflected in the plants)\n",
      "HypNode(log_p = -12.813028,\t sequence = xxunk a cloudy background is reflected in the water)\n",
      "HypNode(log_p = -35.362720,\t sequence = xxunk a cloudy background is reflected in the boats)\n",
      "HypNode(log_p = -35.943939,\t sequence = xxunk a cloudy background is reflected in the surface)\n",
      "HypNode(log_p = -36.301598,\t sequence = xxunk a cloudy background is reflected in the sea)\n",
      "HypNode(log_p = -36.625023,\t sequence = xxunk a cloudy background is reflected in the plants)\n",
      "HypNode(log_p = -13.174536,\t sequence = xxunk a cloudy sky is reflecting in the water)\n",
      "HypNode(log_p = -35.105446,\t sequence = xxunk a cloudy sky is reflecting in the boats)\n",
      "HypNode(log_p = -35.582947,\t sequence = xxunk a cloudy sky is reflecting in the surface)\n",
      "HypNode(log_p = -36.267639,\t sequence = xxunk a cloudy sky is reflecting in the waves)\n",
      "HypNode(log_p = -36.316109,\t sequence = xxunk a cloudy sky is reflecting in the traffic)\n",
      "HypNode(log_p = -14.202145,\t sequence = xxunk a cloudy sky is reflects in the water)\n",
      "HypNode(log_p = -36.842194,\t sequence = xxunk a cloudy sky is reflects in the boats)\n",
      "HypNode(log_p = -37.630302,\t sequence = xxunk a cloudy sky is reflects in the surface)\n",
      "HypNode(log_p = -37.874245,\t sequence = xxunk a cloudy sky is reflects in the sea)\n",
      "HypNode(log_p = -38.050735,\t sequence = xxunk a cloudy sky is reflects in the plants)\n",
      "HypNode(log_p = -15.986986,\t sequence = xxunk a cloudy sky are reflected in the water)\n",
      "HypNode(log_p = -38.762764,\t sequence = xxunk a cloudy sky are reflected in the boats)\n",
      "HypNode(log_p = -39.030998,\t sequence = xxunk a cloudy sky are reflected in the surface)\n",
      "HypNode(log_p = -39.701950,\t sequence = xxunk a cloudy sky are reflected in the plants)\n",
      "HypNode(log_p = -39.833351,\t sequence = xxunk a cloudy sky are reflected in the sea)\n",
      "After narrowing:\n",
      "HypNode(log_p = -0.000008,\t sequence = xxunk a cloudy sky is reflected in the water)\n",
      "HypNode(log_p = -12.813028,\t sequence = xxunk a cloudy background is reflected in the water)\n",
      "HypNode(log_p = -13.174536,\t sequence = xxunk a cloudy sky is reflecting in the water)\n",
      "HypNode(log_p = -14.202145,\t sequence = xxunk a cloudy sky is reflects in the water)\n",
      "HypNode(log_p = -15.986986,\t sequence = xxunk a cloudy sky are reflected in the water)\n",
      "\n",
      " Step:  8\n",
      "Before narrowing:\n",
      "HypNode(log_p = -0.000008,\t sequence = xxunk a cloudy sky is reflected in the water xxpad)\n",
      "HypNode(log_p = -15.123608,\t sequence = xxunk a cloudy sky is reflected in the water .)\n",
      "HypNode(log_p = -19.835068,\t sequence = xxunk a cloudy sky is reflected in the water !)\n",
      "HypNode(log_p = -22.193169,\t sequence = xxunk a cloudy sky is reflected in the water water)\n",
      "HypNode(log_p = -23.149780,\t sequence = xxunk a cloudy sky is reflected in the water a)\n",
      "HypNode(log_p = -12.813028,\t sequence = xxunk a cloudy background is reflected in the water xxpad)\n",
      "HypNode(log_p = -27.927202,\t sequence = xxunk a cloudy background is reflected in the water .)\n",
      "HypNode(log_p = -32.652122,\t sequence = xxunk a cloudy background is reflected in the water !)\n",
      "HypNode(log_p = -35.046410,\t sequence = xxunk a cloudy background is reflected in the water water)\n",
      "HypNode(log_p = -35.989548,\t sequence = xxunk a cloudy background is reflected in the water a)\n",
      "HypNode(log_p = -13.174536,\t sequence = xxunk a cloudy sky is reflecting in the water xxpad)\n",
      "HypNode(log_p = -28.407602,\t sequence = xxunk a cloudy sky is reflecting in the water .)\n",
      "HypNode(log_p = -32.978310,\t sequence = xxunk a cloudy sky is reflecting in the water !)\n",
      "HypNode(log_p = -34.673431,\t sequence = xxunk a cloudy sky is reflecting in the water water)\n",
      "HypNode(log_p = -36.157333,\t sequence = xxunk a cloudy sky is reflecting in the water a)\n",
      "HypNode(log_p = -14.202145,\t sequence = xxunk a cloudy sky is reflects in the water xxpad)\n",
      "HypNode(log_p = -29.484676,\t sequence = xxunk a cloudy sky is reflects in the water .)\n",
      "HypNode(log_p = -34.249962,\t sequence = xxunk a cloudy sky is reflects in the water !)\n",
      "HypNode(log_p = -35.921017,\t sequence = xxunk a cloudy sky is reflects in the water water)\n",
      "HypNode(log_p = -36.970348,\t sequence = xxunk a cloudy sky is reflects in the water a)\n",
      "HypNode(log_p = -15.986986,\t sequence = xxunk a cloudy sky are reflected in the water xxpad)\n",
      "HypNode(log_p = -31.357519,\t sequence = xxunk a cloudy sky are reflected in the water .)\n",
      "HypNode(log_p = -35.978775,\t sequence = xxunk a cloudy sky are reflected in the water !)\n",
      "HypNode(log_p = -38.492043,\t sequence = xxunk a cloudy sky are reflected in the water water)\n",
      "HypNode(log_p = -39.250397,\t sequence = xxunk a cloudy sky are reflected in the water a)\n",
      "After narrowing:\n",
      "HypNode(log_p = -15.123608,\t sequence = xxunk a cloudy sky is reflected in the water .)\n",
      "HypNode(log_p = -19.835068,\t sequence = xxunk a cloudy sky is reflected in the water !)\n",
      "HypNode(log_p = -22.193169,\t sequence = xxunk a cloudy sky is reflected in the water water)\n",
      "HypNode(log_p = -23.149780,\t sequence = xxunk a cloudy sky is reflected in the water a)\n",
      "HypNode(log_p = -27.927202,\t sequence = xxunk a cloudy background is reflected in the water .)\n",
      "Results:\n",
      "HypNode(log_p = -0.000008,\t sequence = xxunk a cloudy sky is reflected in the water xxpad)\n",
      "HypNode(log_p = -12.813028,\t sequence = xxunk a cloudy background is reflected in the water xxpad)\n",
      "HypNode(log_p = -13.174536,\t sequence = xxunk a cloudy sky is reflecting in the water xxpad)\n",
      "HypNode(log_p = -14.202145,\t sequence = xxunk a cloudy sky is reflects in the water xxpad)\n",
      "HypNode(log_p = -15.986986,\t sequence = xxunk a cloudy sky are reflected in the water xxpad)\n",
      "label\t a cloudy sky is reflected in the water xxpad\n",
      "greedy\t a cloudy sky is reflected in the water xxpad\n",
      "beam\t a cloudy sky is reflected in the water xxpad\n"
     ]
    }
   ],
   "source": [
    "show_random_val_prediction(random.randint(0, len(val_ds) - 1))"
   ]
  },
  {
   "cell_type": "code",
   "execution_count": null,
   "metadata": {},
   "outputs": [],
   "source": []
  },
  {
   "cell_type": "code",
   "execution_count": null,
   "metadata": {},
   "outputs": [],
   "source": []
  },
  {
   "cell_type": "code",
   "execution_count": null,
   "metadata": {},
   "outputs": [],
   "source": []
  }
 ],
 "metadata": {
  "kernelspec": {
   "display_name": "Python [conda env:imgcap]",
   "language": "python",
   "name": "conda-env-imgcap-py"
  },
  "language_info": {
   "codemirror_mode": {
    "name": "ipython",
    "version": 3
   },
   "file_extension": ".py",
   "mimetype": "text/x-python",
   "name": "python",
   "nbconvert_exporter": "python",
   "pygments_lexer": "ipython3",
   "version": "3.6.8"
  }
 },
 "nbformat": 4,
 "nbformat_minor": 2
}
